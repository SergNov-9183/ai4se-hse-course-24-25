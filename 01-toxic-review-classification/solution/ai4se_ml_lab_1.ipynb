{
 "cells": [
  {
   "cell_type": "code",
   "execution_count": 33,
   "metadata": {
    "execution": {
     "iopub.execute_input": "2024-10-07T09:26:34.109799Z",
     "iopub.status.busy": "2024-10-07T09:26:34.109374Z",
     "iopub.status.idle": "2024-10-07T09:26:34.116267Z",
     "shell.execute_reply": "2024-10-07T09:26:34.115258Z",
     "shell.execute_reply.started": "2024-10-07T09:26:34.109758Z"
    },
    "id": "Fdxwg0d8bBAJ"
   },
   "outputs": [],
   "source": [
    "import warnings\n",
    "warnings.filterwarnings('ignore')"
   ]
  },
  {
   "cell_type": "code",
   "execution_count": 34,
   "metadata": {
    "execution": {
     "iopub.execute_input": "2024-10-07T09:26:35.329895Z",
     "iopub.status.busy": "2024-10-07T09:26:35.329082Z",
     "iopub.status.idle": "2024-10-07T09:26:35.335255Z",
     "shell.execute_reply": "2024-10-07T09:26:35.334192Z",
     "shell.execute_reply.started": "2024-10-07T09:26:35.329853Z"
    },
    "id": "Jjj7GziJbBAL"
   },
   "outputs": [],
   "source": [
    "import os\n",
    "os.environ[\"TOKENIZERS_PARALLELISM\"] = \"false\""
   ]
  },
  {
   "cell_type": "code",
   "execution_count": 37,
   "metadata": {
    "colab": {
     "base_uri": "https://localhost:8080/"
    },
    "execution": {
     "iopub.execute_input": "2024-10-07T09:26:38.178629Z",
     "iopub.status.busy": "2024-10-07T09:26:38.178195Z",
     "iopub.status.idle": "2024-10-07T09:26:39.210009Z",
     "shell.execute_reply": "2024-10-07T09:26:39.208821Z",
     "shell.execute_reply.started": "2024-10-07T09:26:38.178588Z"
    },
    "id": "h3Al1ejjvyAf",
    "outputId": "816e3c4b-a5de-4606-fad3-ca4d02c0c89b"
   },
   "outputs": [
    {
     "name": "stdout",
     "output_type": "stream",
     "text": [
      " ’®¬ ў гбва®©бвўҐ C Ё¬ҐҐв ¬ҐвЄг System\n",
      " ‘ҐаЁ©­л© ­®¬Ґа в®¬ : 12A3-BAB1\n",
      "\n",
      " ‘®¤Ґа¦Ё¬®Ґ Ї ЇЄЁ C:\\Users\\Sergey\\ai4se-hse-course-24-25\\01-toxic-review-classification\n",
      "\n",
      "28.10.2024  22:05    <DIR>          .\n",
      "28.10.2024  23:18    <DIR>          ..\n",
      "28.10.2024  22:04    <DIR>          .ipynb_checkpoints\n",
      "28.10.2024  21:57             1я551 main.py\n",
      "28.10.2024  21:57             6я779 README.md\n",
      "28.10.2024  21:57                85 requirements.txt\n",
      "28.10.2024  21:57               206 requirements_dev.txt\n",
      "28.10.2024  21:57    <DIR>          toxic_clf\n",
      "               4 д ©«®ў          8я621 Ў ©в\n",
      "               4 Ї Ї®Є  209я693я257я728 Ў ©в бў®Ў®¤­®\n"
     ]
    }
   ],
   "source": [
    "ls 01-toxic-review-classification"
   ]
  },
  {
   "cell_type": "code",
   "execution_count": null,
   "metadata": {
    "colab": {
     "base_uri": "https://localhost:8080/"
    },
    "execution": {
     "iopub.execute_input": "2024-10-07T09:26:42.988932Z",
     "iopub.status.busy": "2024-10-07T09:26:42.987971Z",
     "iopub.status.idle": "2024-10-07T09:27:06.763702Z",
     "shell.execute_reply": "2024-10-07T09:27:06.762706Z",
     "shell.execute_reply.started": "2024-10-07T09:26:42.988887Z"
    },
    "id": "D7CR9P5mvzBK",
    "outputId": "206dc34d-bc4c-4803-d433-90b0dcd275a6"
   },
   "outputs": [],
   "source": [
    "!pip install -r \"01-toxic-review-classification/requirements.txt\"\n",
    "!pip install -r \"01-toxic-review-classification/requirements_dev.txt\""
   ]
  },
  {
   "cell_type": "code",
   "execution_count": null,
   "metadata": {
    "execution": {
     "iopub.execute_input": "2024-10-07T09:27:09.683635Z",
     "iopub.status.busy": "2024-10-07T09:27:09.683346Z",
     "iopub.status.idle": "2024-10-07T09:27:11.070864Z",
     "shell.execute_reply": "2024-10-07T09:27:11.069967Z",
     "shell.execute_reply.started": "2024-10-07T09:27:09.683604Z"
    },
    "id": "qL9-4qsusb1Z"
   },
   "outputs": [],
   "source": [
    "import pandas as pd\n",
    "df = pd.read_excel('code-review-dataset-full.xlsx')\n",
    "# df = pd.read_excel('/kaggle/input/code-review-dataset-full-xlsx/code-review-dataset-full.xlsx')"
   ]
  },
  {
   "cell_type": "markdown",
   "metadata": {
    "id": "zEslUFqV2Hev"
   },
   "source": [
    "- Проведите очистку набора данных, устраняя пропущенные значения и дубликаты.\n"
   ]
  },
  {
   "cell_type": "code",
   "execution_count": null,
   "metadata": {
    "execution": {
     "iopub.execute_input": "2024-10-07T09:27:11.073001Z",
     "iopub.status.busy": "2024-10-07T09:27:11.072646Z",
     "iopub.status.idle": "2024-10-07T09:27:11.092751Z",
     "shell.execute_reply": "2024-10-07T09:27:11.091721Z",
     "shell.execute_reply.started": "2024-10-07T09:27:11.072968Z"
    },
    "id": "rVGp0vQt0E4a"
   },
   "outputs": [],
   "source": [
    "df = df.dropna()\n",
    "df = df.drop_duplicates()"
   ]
  },
  {
   "cell_type": "markdown",
   "metadata": {
    "id": "YVzvDv582JlU"
   },
   "source": [
    "- Удаление URL-ссылок, например ссылок на документацию, посты Stackoverflow\n"
   ]
  },
  {
   "cell_type": "code",
   "execution_count": null,
   "metadata": {
    "execution": {
     "iopub.execute_input": "2024-10-07T09:27:13.800288Z",
     "iopub.status.busy": "2024-10-07T09:27:13.799890Z",
     "iopub.status.idle": "2024-10-07T09:27:13.828891Z",
     "shell.execute_reply": "2024-10-07T09:27:13.828119Z",
     "shell.execute_reply.started": "2024-10-07T09:27:13.800252Z"
    },
    "id": "0WHVDUtO2uqv"
   },
   "outputs": [],
   "source": [
    "import re\n",
    "df['message'] = df['message'].apply(lambda x: re.sub(r'http\\S+', '\\'link\\'', x))"
   ]
  },
  {
   "cell_type": "markdown",
   "metadata": {
    "id": "yfoKnmIm2Nmh"
   },
   "source": [
    "- Исправление сокращений слов, например doesn’t -> does not и we’re -> we are для унификации токенов. (готовый словарь можно найти в репозитории ToxiCR)\n"
   ]
  },
  {
   "cell_type": "code",
   "execution_count": null,
   "metadata": {
    "execution": {
     "iopub.execute_input": "2024-10-07T09:27:16.401639Z",
     "iopub.status.busy": "2024-10-07T09:27:16.401265Z",
     "iopub.status.idle": "2024-10-07T09:27:16.732725Z",
     "shell.execute_reply": "2024-10-07T09:27:16.731719Z",
     "shell.execute_reply.started": "2024-10-07T09:27:16.401603Z"
    },
    "id": "cOB1FFENhj3x"
   },
   "outputs": [],
   "source": [
    "contraction_mapping = {\"ain't\": \"is not\", \"aren't\": \"are not\",\n",
    "                       \"can't\": \"cannot\", \"'cause\": \"because\",\n",
    "                       \"could've\": \"could have\", \"couldn't\": \"could not\",\n",
    "                       \"didn't\": \"did not\", \"doesn't\": \"does not\",\n",
    "                       \"don't\": \"do not\", \"hadn't\": \"had not\", \"hasn't\": \"has not\",\n",
    "                       \"haven't\": \"have not\", \"he'd\": \"he would\", \"he'll\": \"he will\",\n",
    "                       \"he's\": \"he is\", \"how'd\": \"how did\", \"how'd'y\": \"how do you\",\n",
    "                       \"how'll\": \"how will\", \"how's\": \"how is\", \"I'd\": \"I would\",\n",
    "                       \"I'd've\": \"I would have\", \"I'll\": \"I will\", \"I'll've\": \"I will have\",\n",
    "                       \"I'm\": \"I am\", \"I've\": \"I have\", \"i'd\": \"i would\", \"i'd've\": \"i would have\",\n",
    "                       \"i'll\": \"i will\", \"i'll've\": \"i will have\", \"i'm\": \"i am\",\n",
    "                       \"i've\": \"i have\", \"isn't\": \"is not\", \"it'd\": \"it would\",\n",
    "                       \"it'd've\": \"it would have\", \"it'll\": \"it will\", \"it'll've\": \"it will have\",\n",
    "                       \"it's\": \"it is\", \"let's\": \"let us\", \"ma'am\": \"madam\", \"mayn't\": \"may not\",\n",
    "                       \"might've\": \"might have\", \"mightn't\": \"might not\",\n",
    "                       \"mightn't've\": \"might not have\", \"must've\": \"must have\",\n",
    "                       \"mustn't\": \"must not\", \"mustn't've\": \"must not have\",\n",
    "                       \"needn't\": \"need not\", \"needn't've\": \"need not have\",\n",
    "                       \"o'clock\": \"of the clock\", \"oughtn't\": \"ought not\",\n",
    "                       \"oughtn't've\": \"ought not have\", \"shan't\": \"shall not\",\n",
    "                       \"sha'n't\": \"shall not\", \"shan't've\": \"shall not have\",\n",
    "                       \"she'd\": \"she would\", \"she'd've\": \"she would have\",\n",
    "                       \"she'll\": \"she will\", \"she'll've\": \"she will have\",\n",
    "                       \"she's\": \"she is\", \"should've\": \"should have\", \"shouldn't\": \"should not\",\n",
    "                       \"shouldn't've\": \"should not have\", \"so've\": \"so have\", \"so's\": \"so as\",\n",
    "                       \"this's\": \"this is\", \"that'd\": \"that would\", \"that'd've\": \"that would have\",\n",
    "                       \"that's\": \"that is\", \"there'd\": \"there would\",\n",
    "                       \"there'd've\": \"there would have\", \"there's\": \"there is\",\n",
    "                       \"here's\": \"here is\", \"they'd\": \"they would\", \"they'd've\": \"they would have\",\n",
    "                       \"they'll\": \"they will\", \"they'll've\": \"they will have\", \"they're\": \"they are\",\n",
    "                       \"they've\": \"they have\", \"to've\": \"to have\", \"wasn't\": \"was not\", \"we'd\": \"we would\",\n",
    "                       \"we'd've\": \"we would have\", \"we'll\": \"we will\", \"we'll've\": \"we will have\",\n",
    "                       \"we're\": \"we are\", \"we've\": \"we have\", \"weren't\": \"were not\",\n",
    "                       \"what'll\": \"what will\",\n",
    "                       \"what'll've\": \"what will have\", \"what're\": \"what are\", \"what's\": \"what is\",\n",
    "                       \"what've\": \"what have\", \"when's\": \"when is\", \"when've\": \"when have\",\n",
    "                       \"where'd\": \"where did\", \"where's\": \"where is\", \"where've\": \"where have\",\n",
    "                       \"who'll\": \"who will\", \"who'll've\": \"who will have\", \"who's\": \"who is\",\n",
    "                       \"who've\": \"who have\", \"why's\": \"why is\", \"why've\": \"why have\",\n",
    "                       \"will've\": \"will have\", \"won't\": \"will not\", \"won't've\": \"will not have\",\n",
    "                       \"would've\": \"would have\", \"wouldn't\": \"would not\", \"wouldn't've\": \"would not have\",\n",
    "                       \"y'all\": \"you all\", \"y'all'd\": \"you all would\", \"y'all'd've\": \"you all would have\",\n",
    "                       \"y'all're\": \"you all are\", \"y'all've\": \"you all have\", \"you'd\": \"you would\",\n",
    "                       \"you'd've\": \"you would have\", \"you'll\": \"you will\", \"you'll've\": \"you will have\",\n",
    "                       \"you're\": \"you are\", \"you've\": \"you have\", \"aint\": \"is not\", \"arent\": \"are not\",\n",
    "                       \"cant\": \"cannot\", \"cause\": \"because\",\n",
    "                       \"couldve\": \"could have\", \"couldnt\": \"could not\",\n",
    "                       \"didnt\": \"did not\", \"doesnt\": \"does not\",\n",
    "                       \"dont\": \"do not\", \"hadnt\": \"had not\", \"hasnt\": \"has not\",\n",
    "                       \"havent\": \"have not\", \"howdy\": \"how do you\",\n",
    "                       \"its\": \"it is\", \"lets\": \"let us\", \"maam\": \"madam\", \"maynt\": \"may not\",\n",
    "                       \"mightve\": \"might have\", \"mightnt\": \"might not\",\n",
    "                       \"mightntve\": \"might not have\", \"mustve\": \"must have\",\n",
    "                       \"mustnt\": \"must not\", \"mustntve\": \"must not have\",\n",
    "                       \"neednt\": \"need not\", \"needntve\": \"need not have\",\n",
    "                       \"oclock\": \"of the clock\", \"oughtnt\": \"ought not\",\n",
    "                       \"shouldve\": \"should have\", \"shouldnt\": \"should not\",\n",
    "                       \"werent\": \"were not\", \"youre\": \"you are\", \"yall\": \"you all\",\n",
    "                       \"youve\": \"you have\"}\n",
    "\n",
    "def full_from_contraction(text):\n",
    "    specials = [\"’\", \"‘\", \"´\", \"`\", \"'\"]\n",
    "\n",
    "    for s in specials:\n",
    "        text = text.replace(s, \"'\")\n",
    "        text = ' '.join([contraction_mapping[t] if t in contraction_mapping else t for t in text.split(\" \")])\n",
    "    return text\n",
    "\n",
    "df['message'] = df['message'].apply(lambda x: x.lower())\n",
    "df['message'] = df['message'].apply(full_from_contraction)"
   ]
  },
  {
   "cell_type": "markdown",
   "metadata": {
    "id": "REhFWaNS2PNr"
   },
   "source": [
    "- Удаление повторяющихся символов: “You’re duumbbbb!,” -> “you are dumb”\n"
   ]
  },
  {
   "cell_type": "code",
   "execution_count": null,
   "metadata": {
    "execution": {
     "iopub.execute_input": "2024-10-07T09:27:22.106268Z",
     "iopub.status.busy": "2024-10-07T09:27:22.105874Z",
     "iopub.status.idle": "2024-10-07T09:27:22.389599Z",
     "shell.execute_reply": "2024-10-07T09:27:22.388184Z",
     "shell.execute_reply.started": "2024-10-07T09:27:22.106226Z"
    },
    "id": "4yn4JxRUj1wj"
   },
   "outputs": [],
   "source": [
    "from itertools import groupby\n",
    "\n",
    "def delete_duplicate(dup_string):\n",
    "  return ''.join([x for x,y in groupby(dup_string)])\n",
    "\n",
    "df['message'] = df['message'].apply(delete_duplicate)"
   ]
  },
  {
   "cell_type": "markdown",
   "metadata": {
    "id": "DVEZZDEm2Qud"
   },
   "source": [
    "- Удаление специальных символов &, #, ^, *...\n"
   ]
  },
  {
   "cell_type": "code",
   "execution_count": null,
   "metadata": {
    "execution": {
     "iopub.execute_input": "2024-10-07T09:27:20.377190Z",
     "iopub.status.busy": "2024-10-07T09:27:20.376442Z",
     "iopub.status.idle": "2024-10-07T09:27:20.680137Z",
     "shell.execute_reply": "2024-10-07T09:27:20.679112Z",
     "shell.execute_reply.started": "2024-10-07T09:27:20.377147Z"
    },
    "id": "IOdCQEPfk_1I"
   },
   "outputs": [],
   "source": [
    "def del_special_sym(text):\n",
    "    pattern = re.compile('([^\\s\\w]|_|\\\\n)+')\n",
    "    return pattern.sub(' ', text)\n",
    "\n",
    "df['message'] = df['message'].apply(del_special_sym)"
   ]
  },
  {
   "cell_type": "markdown",
   "metadata": {
    "id": "DKhWSaGg2Rdo"
   },
   "source": [
    "- Исправление специально испорченных ругательных слов (словарь с регулярными выражениями также можно найти в репозитории ToxiCR)\n"
   ]
  },
  {
   "cell_type": "code",
   "execution_count": null,
   "metadata": {
    "execution": {
     "iopub.execute_input": "2024-10-07T09:27:24.521413Z",
     "iopub.status.busy": "2024-10-07T09:27:24.521027Z",
     "iopub.status.idle": "2024-10-07T09:27:27.589128Z",
     "shell.execute_reply": "2024-10-07T09:27:27.587964Z",
     "shell.execute_reply.started": "2024-10-07T09:27:24.521377Z"
    },
    "id": "cwNumg_2hYuh"
   },
   "outputs": [],
   "source": [
    "RE_PATTERNS = {\n",
    "    ' fuck ':\n",
    "        [\n",
    "            '(f)(u|[^a-z0-9 ])(c|[^a-z0-9 ])(k|[^a-z0-9 ])([^ ])*',\n",
    "            '(f)([^a-z]*)(u)([^a-z]*)(c)([^a-z]*)(k)',\n",
    "            ' f[!@#\\$%\\^\\&\\*]*u[!@#\\$%\\^&\\*]*k', 'f u u c',\n",
    "            '(f)(c|[^a-z ])(u|[^a-z ])(k)', r'f\\*',\n",
    "            'feck ', ' fux ', 'f\\*\\*',\n",
    "            'f\\-ing', 'f\\.u\\.', 'f###', ' fu ', 'f@ck', 'f u c k', 'f uck', 'f ck'\n",
    "\n",
    "        ],\n",
    "\n",
    "    ' crap ':\n",
    "        [\n",
    "            ' (c)(r|[^a-z0-9 ])(a|[^a-z0-9 ])(p|[^a-z0-9 ])([^ ])*',\n",
    "            ' (c)([^a-z]*)(r)([^a-z]*)(a)([^a-z]*)(p)',\n",
    "            ' c[!@#\\$%\\^\\&\\*]*r[!@#\\$%\\^&\\*]*p', 'cr@p', ' c r a p',\n",
    "\n",
    "        ],\n",
    "\n",
    "    ' ass ':\n",
    "        [\n",
    "            '[^a-z]ass ', '[^a-z]azz ', 'arrse', ' arse ', '@\\$\\$'\n",
    "                                                           '[^a-z]anus', ' a\\*s\\*s', '[^a-z]ass[^a-z ]',\n",
    "            'a[@#\\$%\\^&\\*][@#\\$%\\^&\\*]', '[^a-z]anal ', 'a s s'\n",
    "        ],\n",
    "\n",
    "    ' bitch ':\n",
    "        [\n",
    "            'bitches', ' b[w]*i[t]*ch', ' b!tch',\n",
    "            ' bi\\+ch', ' b!\\+ch', ' (b)([^a-z]*)(i)([^a-z]*)(t)([^a-z]*)(c)([^a-z]*)(h)',\n",
    "            ' biatch', ' bi\\*\\*h', ' bytch', 'b i t c h'\n",
    "        ],\n",
    "    \n",
    "    ' ass hole ':\n",
    "        [\n",
    "            ' a[s|z]*wipe', 'a[s|z]*[w]*h[o|0]+[l]*e', '@\\$\\$hole'\n",
    "        ],\n",
    "\n",
    "    ' bastard ':\n",
    "        [\n",
    "            'ba[s|z]+t[e|a]+rd'\n",
    "        ],\n",
    "\n",
    "    ' transgender':\n",
    "        [\n",
    "            'transgender'\n",
    "        ],\n",
    "\n",
    "    ' gay ':\n",
    "        [\n",
    "            'gay', 'homo'\n",
    "        ],\n",
    "\n",
    "    ' cock ':\n",
    "        [\n",
    "            '[^a-z]cock', 'c0ck', '[^a-z]cok ', 'c0k', '[^a-z]cok[^aeiou]', ' cawk',\n",
    "            '(c)([^a-z ])(o)([^a-z ]*)(c)([^a-z ]*)(k)', 'c o c k'\n",
    "        ],\n",
    "\n",
    "    ' dick ':\n",
    "        [\n",
    "            ' dick[^aeiou]', 'd i c k'\n",
    "        ],\n",
    "\n",
    "    ' suck ':\n",
    "        [\n",
    "            'sucker', 'sucks', '(s)([^a-z ]*)(u)([^a-z ]*)(c)([^a-z ]*)(k)', '5uck', 's u c k'\n",
    "        ],\n",
    "\n",
    "    ' cunt ':\n",
    "        [\n",
    "            'cunt', 'c u n t'\n",
    "        ],\n",
    "\n",
    "    ' bull shit ':\n",
    "        [\n",
    "            'bullsh\\*t', 'bull\\$hit', 'bull sh.t'\n",
    "        ],\n",
    "\n",
    "    ' jerk ':\n",
    "        [\n",
    "            'jerk'\n",
    "        ],\n",
    "\n",
    "    ' idiot ':\n",
    "        [\n",
    "            'i[d]+io[t]+', '(i)([^a-z ]*)(d)([^a-z ]*)(i)([^a-z ]*)(o)([^a-z ]*)(t)', 'idiots' 'i d i o t'\n",
    "        ],\n",
    "\n",
    "    ' dumb ':\n",
    "        [\n",
    "            '(d)([^a-z ]*)(u)([^a-z ]*)(m)([^a-z ]*)(b)'\n",
    "        ],\n",
    "\n",
    "    ' shit ':\n",
    "        [\n",
    "            'shitty', '(s)([^a-z ]*)(h)([^a-z ]*)(i)([^a-z ]*)(t)', 'shite', '\\$hit', 's h i t', 'sh\\*tty',\n",
    "            'sh\\*ty', 'sh\\*t'\n",
    "        ],\n",
    "\n",
    "    ' shit hole ':\n",
    "        [\n",
    "            'shythole', 'sh.thole'\n",
    "        ],\n",
    "\n",
    "    ' retard ':\n",
    "        [\n",
    "            'returd', 'retad', 'retard', 'wiktard', 'wikitud'\n",
    "        ],\n",
    "\n",
    "    ' rape ':\n",
    "        [\n",
    "            'raped'\n",
    "        ],\n",
    "\n",
    "    ' dumb ass':\n",
    "        [\n",
    "            'dumbass', 'dubass'\n",
    "        ],\n",
    "\n",
    "    ' ass head':\n",
    "        [\n",
    "            'butthead'\n",
    "        ],\n",
    "\n",
    "    ' sex ':\n",
    "        [\n",
    "            'sexy', 's3x', 'sexuality'\n",
    "        ],\n",
    "\n",
    "    ' nigger ':\n",
    "        [\n",
    "            'nigger', 'ni[g]+a', ' nigr ', 'negrito', 'niguh', 'n3gr', 'n i g g e r'\n",
    "        ],\n",
    "\n",
    "    ' shut the fuck up':\n",
    "        [\n",
    "            ' stfu' '^stfu'\n",
    "        ],\n",
    "\n",
    "    ' for your fucking information':\n",
    "        [\n",
    "            ' fyfi', '^fyfi'\n",
    "        ],\n",
    "    ' get the fuck off':\n",
    "        [\n",
    "            'gtfo', '^gtfo'\n",
    "        ],\n",
    "\n",
    "    ' oh my fucking god ':\n",
    "        [\n",
    "            ' omfg', '^omfg'\n",
    "        ],\n",
    "\n",
    "    ' what the hell ':\n",
    "        [\n",
    "            ' wth', '^wth'\n",
    "        ],\n",
    "\n",
    "    ' what the fuck ':\n",
    "        [\n",
    "            ' wtf', '^wtf'\n",
    "        ],\n",
    "    ' son of bitch ':\n",
    "        [\n",
    "            ' sob ', '^sob '\n",
    "        ],\n",
    "\n",
    "    ' pussy ':\n",
    "        [\n",
    "            'pussy[^c]', 'pusy', 'pussi[^l]', 'pusses', '(p)(u|[^a-z0-9 ])(s|[^a-z0-9 ])(s|[^a-z0-9 ])(y)',\n",
    "        ],\n",
    "\n",
    "    ' faggot ':\n",
    "        [\n",
    "            'faggot', ' fa[g]+[s]*[^a-z ]', 'fagot', 'f a g g o t', 'faggit',\n",
    "            '(f)([^a-z ]*)(a)([^a-z ]*)([g]+)([^a-z ]*)(o)([^a-z ]*)(t)', 'fau[g]+ot', 'fae[g]+ot',\n",
    "        ],\n",
    "\n",
    "    ' mother fucker':\n",
    "        [\n",
    "            ' motha f', ' mother f', 'motherucker', ' mofo', ' mf ',\n",
    "        ],\n",
    "\n",
    "    ' whore ':\n",
    "        [\n",
    "            'wh\\*\\*\\*', 'w h o r e'\n",
    "        ],\n",
    "\n",
    "    ' haha ':\n",
    "        [\n",
    "            'ha\\*\\*\\*ha',\n",
    "        ],\n",
    "}\n",
    "\n",
    "def perform_text(text):\n",
    "    for target, patterns in RE_PATTERNS.items():\n",
    "        for pat in patterns:\n",
    "            text = re.sub(pat, target, text)\n",
    "    text = re.sub(r\"[^a-z' ]\", ' ', text)\n",
    "    return text\n",
    "\n",
    "df['message'] = df['message'].apply(perform_text)"
   ]
  },
  {
   "cell_type": "markdown",
   "metadata": {
    "id": "W4986YPA2S3B"
   },
   "source": [
    "- После предобработки сохраните подготовленные данные для дальнейшего использования\n"
   ]
  },
  {
   "cell_type": "code",
   "execution_count": null,
   "metadata": {
    "execution": {
     "iopub.execute_input": "2024-10-07T09:27:27.591159Z",
     "iopub.status.busy": "2024-10-07T09:27:27.590823Z",
     "iopub.status.idle": "2024-10-07T09:27:27.666825Z",
     "shell.execute_reply": "2024-10-07T09:27:27.665842Z",
     "shell.execute_reply.started": "2024-10-07T09:27:27.591125Z"
    },
    "id": "uEEQU6mjpdU8"
   },
   "outputs": [],
   "source": [
    "df.to_csv('prepared_data.csv', index=False)"
   ]
  },
  {
   "cell_type": "markdown",
   "metadata": {
    "id": "hWSaa5npp71e"
   },
   "source": [
    "Использование классических методов машинного обучения (библиотека scikit-learn)\n"
   ]
  },
  {
   "cell_type": "code",
   "execution_count": null,
   "metadata": {
    "colab": {
     "base_uri": "https://localhost:8080/",
     "height": 206
    },
    "execution": {
     "iopub.execute_input": "2024-10-07T09:27:28.903918Z",
     "iopub.status.busy": "2024-10-07T09:27:28.903128Z",
     "iopub.status.idle": "2024-10-07T09:27:28.938919Z",
     "shell.execute_reply": "2024-10-07T09:27:28.937933Z",
     "shell.execute_reply.started": "2024-10-07T09:27:28.903876Z"
    },
    "id": "mMBPmyfxpkWz",
    "outputId": "8fa25995-438d-45d8-ec4c-0ea35fdac966"
   },
   "outputs": [],
   "source": [
    "df = pd.read_csv('prepared_data.csv')\n",
    "df.head()"
   ]
  },
  {
   "cell_type": "markdown",
   "metadata": {
    "id": "hoHGDZSep-QO"
   },
   "source": [
    "- Для преобразования в числовое представление ранее подготовленных текстов используйте CountVectorizer\n"
   ]
  },
  {
   "cell_type": "code",
   "execution_count": null,
   "metadata": {
    "execution": {
     "iopub.execute_input": "2024-10-07T09:27:31.596369Z",
     "iopub.status.busy": "2024-10-07T09:27:31.595829Z",
     "iopub.status.idle": "2024-10-07T09:27:31.602126Z",
     "shell.execute_reply": "2024-10-07T09:27:31.601176Z",
     "shell.execute_reply.started": "2024-10-07T09:27:31.596328Z"
    },
    "id": "Pq1Dj6wYvewo"
   },
   "outputs": [],
   "source": [
    "from sklearn.feature_extraction.text import CountVectorizer"
   ]
  },
  {
   "cell_type": "code",
   "execution_count": null,
   "metadata": {
    "execution": {
     "iopub.execute_input": "2024-10-07T09:27:32.866741Z",
     "iopub.status.busy": "2024-10-07T09:27:32.865771Z",
     "iopub.status.idle": "2024-10-07T09:27:32.892173Z",
     "shell.execute_reply": "2024-10-07T09:27:32.891280Z",
     "shell.execute_reply.started": "2024-10-07T09:27:32.866698Z"
    },
    "id": "63eTZ4v52ayH"
   },
   "outputs": [],
   "source": [
    "from sklearn.model_selection import train_test_split\n",
    "X, X_eval, y, y_eval = train_test_split(list(df[\"message\"]), list(df[\"is_toxic\"]), train_size=0.75, random_state=42)\n",
    "X_train, X_test, y_train, y_test = train_test_split(X, y, train_size=0.75, random_state=42)"
   ]
  },
  {
   "cell_type": "code",
   "execution_count": null,
   "metadata": {
    "execution": {
     "iopub.execute_input": "2024-10-07T09:27:34.696199Z",
     "iopub.status.busy": "2024-10-07T09:27:34.695794Z",
     "iopub.status.idle": "2024-10-07T09:27:35.033498Z",
     "shell.execute_reply": "2024-10-07T09:27:35.032677Z",
     "shell.execute_reply.started": "2024-10-07T09:27:34.696162Z"
    },
    "id": "MO5RdLHcxdph"
   },
   "outputs": [],
   "source": [
    "count_vect = CountVectorizer()\n",
    "\n",
    "cv=count_vect.fit_transform(X)\n",
    "\n",
    "cv_eval=count_vect.transform(X_eval)"
   ]
  },
  {
   "cell_type": "code",
   "execution_count": null,
   "metadata": {
    "execution": {
     "iopub.execute_input": "2024-10-07T09:27:36.113873Z",
     "iopub.status.busy": "2024-10-07T09:27:36.113243Z",
     "iopub.status.idle": "2024-10-07T09:27:36.457502Z",
     "shell.execute_reply": "2024-10-07T09:27:36.456475Z",
     "shell.execute_reply.started": "2024-10-07T09:27:36.113807Z"
    },
    "id": "5MqMq-aN3Vuq"
   },
   "outputs": [],
   "source": [
    "eval=pd.DataFrame(cv_eval.todense(),columns=count_vect.get_feature_names_out())\n",
    "\n",
    "full = pd.DataFrame(cv.todense(),columns=count_vect.get_feature_names_out())"
   ]
  },
  {
   "cell_type": "markdown",
   "metadata": {
    "id": "WZUeeD-NqBB4"
   },
   "source": [
    "- Обучите модели Random Forest на полученных CountVectorizer\n"
   ]
  },
  {
   "cell_type": "code",
   "execution_count": null,
   "metadata": {
    "execution": {
     "iopub.execute_input": "2024-10-07T09:27:39.543941Z",
     "iopub.status.busy": "2024-10-07T09:27:39.543056Z",
     "iopub.status.idle": "2024-10-07T09:27:39.634647Z",
     "shell.execute_reply": "2024-10-07T09:27:39.633880Z",
     "shell.execute_reply.started": "2024-10-07T09:27:39.543897Z"
    },
    "id": "gwxF7y_l3ROt"
   },
   "outputs": [],
   "source": [
    "from sklearn.ensemble import RandomForestClassifier"
   ]
  },
  {
   "cell_type": "code",
   "execution_count": null,
   "metadata": {
    "execution": {
     "iopub.execute_input": "2024-10-07T09:32:21.746222Z",
     "iopub.status.busy": "2024-10-07T09:32:21.745808Z",
     "iopub.status.idle": "2024-10-07T09:32:21.752007Z",
     "shell.execute_reply": "2024-10-07T09:32:21.750904Z",
     "shell.execute_reply.started": "2024-10-07T09:32:21.746184Z"
    },
    "id": "QOBN4tq_4R9M"
   },
   "outputs": [],
   "source": [
    "rf=RandomForestClassifier()"
   ]
  },
  {
   "cell_type": "code",
   "execution_count": null,
   "metadata": {
    "colab": {
     "base_uri": "https://localhost:8080/",
     "height": 80
    },
    "execution": {
     "iopub.execute_input": "2024-10-07T09:32:22.856270Z",
     "iopub.status.busy": "2024-10-07T09:32:22.855871Z",
     "iopub.status.idle": "2024-10-07T09:33:27.594763Z",
     "shell.execute_reply": "2024-10-07T09:33:27.593646Z",
     "shell.execute_reply.started": "2024-10-07T09:32:22.856232Z"
    },
    "id": "7vz7UyAV4VU8",
    "outputId": "5f593668-b2e4-49f7-8b90-77563f753718"
   },
   "outputs": [],
   "source": [
    "rf.fit(full,y)"
   ]
  },
  {
   "cell_type": "markdown",
   "metadata": {
    "id": "4qNvBERMqFLl"
   },
   "source": [
    "- Проведите оценку качества моделей путем 10-фолдовой кросс-валидации (KFold cross-validation)\n"
   ]
  },
  {
   "cell_type": "code",
   "execution_count": null,
   "metadata": {
    "colab": {
     "base_uri": "https://localhost:8080/"
    },
    "execution": {
     "iopub.execute_input": "2024-10-06T21:27:34.673338Z",
     "iopub.status.busy": "2024-10-06T21:27:34.672947Z",
     "iopub.status.idle": "2024-10-06T21:36:42.769186Z",
     "shell.execute_reply": "2024-10-06T21:36:42.768220Z",
     "shell.execute_reply.started": "2024-10-06T21:27:34.673293Z"
    },
    "id": "P4iegUEx4zfg",
    "outputId": "354650b0-24dc-4d20-a3e5-4b5c9353d5fc",
    "scrolled": true
   },
   "outputs": [],
   "source": [
    "from sklearn.model_selection import cross_val_score\n",
    "scores = cross_val_score(RandomForestClassifier(), full, y, cv=10, verbose=1)\n",
    "scores"
   ]
  },
  {
   "cell_type": "code",
   "execution_count": null,
   "metadata": {
    "colab": {
     "base_uri": "https://localhost:8080/"
    },
    "execution": {
     "iopub.execute_input": "2024-10-06T21:36:42.771392Z",
     "iopub.status.busy": "2024-10-06T21:36:42.770702Z",
     "iopub.status.idle": "2024-10-06T21:36:42.777971Z",
     "shell.execute_reply": "2024-10-06T21:36:42.777029Z",
     "shell.execute_reply.started": "2024-10-06T21:36:42.771341Z"
    },
    "id": "vfwGAQV52FlA",
    "outputId": "b8ec5bc5-6394-48c9-8e02-e81f525ff1e5"
   },
   "outputs": [],
   "source": [
    "scores.mean()"
   ]
  },
  {
   "cell_type": "markdown",
   "metadata": {
    "id": "jM-swXPzqGoi"
   },
   "source": [
    "- Постройте и проанализируйте матрицу несоответствия (confusion matrix).\n"
   ]
  },
  {
   "cell_type": "code",
   "execution_count": null,
   "metadata": {
    "execution": {
     "iopub.execute_input": "2024-10-07T09:27:46.065305Z",
     "iopub.status.busy": "2024-10-07T09:27:46.063766Z",
     "iopub.status.idle": "2024-10-07T09:27:46.071948Z",
     "shell.execute_reply": "2024-10-07T09:27:46.071017Z",
     "shell.execute_reply.started": "2024-10-07T09:27:46.065243Z"
    },
    "id": "0touuqsMSHqz"
   },
   "outputs": [],
   "source": [
    "import numpy as np\n",
    "def calculate_confusion_matrix(true, pred):\n",
    "  K = len(np.unique(true))\n",
    "  result = np.zeros((K, K))\n",
    "  for i in range(len(true)):\n",
    "    result[true[i]][pred[i]] += 1\n",
    "  return result"
   ]
  },
  {
   "cell_type": "code",
   "execution_count": null,
   "metadata": {
    "colab": {
     "base_uri": "https://localhost:8080/"
    },
    "execution": {
     "iopub.execute_input": "2024-10-07T09:33:27.596819Z",
     "iopub.status.busy": "2024-10-07T09:33:27.596482Z",
     "iopub.status.idle": "2024-10-07T09:33:28.218722Z",
     "shell.execute_reply": "2024-10-07T09:33:28.217706Z",
     "shell.execute_reply.started": "2024-10-07T09:33:27.596782Z"
    },
    "id": "k9tpy6J3SOIj",
    "outputId": "73e5b22c-d98e-4b8f-9cbf-83016d068d90"
   },
   "outputs": [],
   "source": [
    "results = rf.predict(eval)\n",
    "calculate_confusion_matrix(y_eval, results)\n",
    "# TP FP\n",
    "# FN TN"
   ]
  },
  {
   "cell_type": "markdown",
   "metadata": {
    "id": "sFPliO7JbO1W"
   },
   "source": [
    "Доля FN получилось выше, чем доля FP. То есть модель склонна недооценивать токсичность комментариев\n"
   ]
  },
  {
   "cell_type": "markdown",
   "metadata": {
    "id": "b0z3mzJRqIHC"
   },
   "source": [
    "- Попробуйте улучшить качество классификации путем экспериментов с гипер-параметрами моделей и методов для извлечения признаков.\n",
    "\n"
   ]
  },
  {
   "cell_type": "code",
   "execution_count": null,
   "metadata": {
    "execution": {
     "iopub.execute_input": "2024-10-06T21:36:43.477006Z",
     "iopub.status.busy": "2024-10-06T21:36:43.476718Z",
     "iopub.status.idle": "2024-10-06T23:09:57.473521Z",
     "shell.execute_reply": "2024-10-06T23:09:57.472550Z",
     "shell.execute_reply.started": "2024-10-06T21:36:43.476976Z"
    },
    "id": "7278GLWT2eCP",
    "outputId": "4ceaf64c-0ae5-46b1-f1ab-195cc8fa4899"
   },
   "outputs": [],
   "source": [
    "from sklearn.model_selection import GridSearchCV\n",
    "\n",
    "param_grid = {\n",
    "    'n_estimators': [50, 100, 150],\n",
    "    'max_depth': [None, 10, 20],\n",
    "    'min_samples_leaf': [1, 2, 4]\n",
    "}\n",
    "\n",
    "rf_model = RandomForestClassifier()\n",
    "grid_search = GridSearchCV(rf_model, param_grid, cv=10)\n",
    "grid_search.fit(full, y)\n",
    "\n",
    "print(\"Best Hyperparameters:\", grid_search.best_params_)\n",
    "print(\"Best Cross-Validation Score:\", grid_search.best_score_)"
   ]
  },
  {
   "cell_type": "code",
   "execution_count": null,
   "metadata": {
    "execution": {
     "iopub.execute_input": "2024-10-07T09:27:50.964627Z",
     "iopub.status.busy": "2024-10-07T09:27:50.963707Z",
     "iopub.status.idle": "2024-10-07T09:28:54.753002Z",
     "shell.execute_reply": "2024-10-07T09:28:54.752095Z",
     "shell.execute_reply.started": "2024-10-07T09:27:50.964581Z"
    },
    "id": "a590MxsjbBAR",
    "outputId": "d7f164c0-f106-4866-9cec-06d97807e36e",
    "scrolled": true
   },
   "outputs": [],
   "source": [
    "rf_best=RandomForestClassifier(n_estimators=100, max_depth=None, min_samples_leaf=1)\n",
    "rf_best.fit(full,y)"
   ]
  },
  {
   "cell_type": "markdown",
   "metadata": {
    "id": "IGwLnzBRQxB0"
   },
   "source": [
    "Использование предобученных моделей (библиотека transformers)\n"
   ]
  },
  {
   "cell_type": "markdown",
   "metadata": {
    "id": "GgKmvvX33SDO"
   },
   "source": [
    "- Используйте токенизатор RoBERTa для преобразования текстовых данных в формат, понятный модели.\n"
   ]
  },
  {
   "cell_type": "code",
   "execution_count": null,
   "metadata": {
    "execution": {
     "iopub.execute_input": "2024-10-07T09:03:08.503888Z",
     "iopub.status.busy": "2024-10-07T09:03:08.503136Z",
     "iopub.status.idle": "2024-10-07T09:03:08.801703Z",
     "shell.execute_reply": "2024-10-07T09:03:08.800888Z",
     "shell.execute_reply.started": "2024-10-07T09:03:08.503846Z"
    },
    "id": "-utdwUvvQwiT"
   },
   "outputs": [],
   "source": [
    "from transformers import RobertaTokenizerFast\n",
    "tokenizer = RobertaTokenizerFast.from_pretrained('roberta-base', max_length = 512)"
   ]
  },
  {
   "cell_type": "code",
   "execution_count": null,
   "metadata": {
    "execution": {
     "iopub.execute_input": "2024-10-07T09:03:10.028854Z",
     "iopub.status.busy": "2024-10-07T09:03:10.028432Z",
     "iopub.status.idle": "2024-10-07T09:03:10.064274Z",
     "shell.execute_reply": "2024-10-07T09:03:10.063516Z",
     "shell.execute_reply.started": "2024-10-07T09:03:10.028802Z"
    },
    "id": "z7_MrmLnhe-y"
   },
   "outputs": [],
   "source": [
    "from datasets import Dataset\n",
    "train_dataset = Dataset.from_dict({\"text\": X_train, \"label\": y_train})\n",
    "test_dataset = Dataset.from_dict({\"text\": X_test, \"label\": y_test})\n",
    "eval_dataset = Dataset.from_dict({\"text\": X_eval, \"label\": y_eval})"
   ]
  },
  {
   "cell_type": "code",
   "execution_count": null,
   "metadata": {
    "colab": {
     "base_uri": "https://localhost:8080/",
     "height": 113,
     "referenced_widgets": [
      "adbb94103cdf4151ad70baa5686baffe",
      "f02c4935d6de47e78aa3be47245381cb",
      "3b532ef65b114c4dbbb82c13e513615c",
      "365f246932ee496cad6ee18e31cc0c73",
      "fcab6733e1b8449786293dc01373502b",
      "66ef0d3e5d0942759e9088a01811d588",
      "c7be41e8afd241f9adbcc5b3ac1c63ca",
      "01285c5314dd446d8585b4c840187649",
      "07083cbca00b4eb4916fdda6137733c6",
      "609430af98104ec982eadb84d6e5dabc",
      "04e15ff028284c489b9e184db365c601",
      "9475e6ec7fa04b2390b4093da3b1dcf1",
      "3ab5e1d7aa264a32b2e4c282aabd4757",
      "94ffdca7818f48859f369b83f67c1b5b",
      "d9a1ab2738314b17a71dc986425a3de6",
      "dab0d0a414154c4c830cf467f7fe693c",
      "1f487d2852374517bab84009bb3cf6bf",
      "ab377e9bec234054ba964be47511df31",
      "599616570891486db44c11c14ff7149e",
      "57b4c2eeba7e4a8fa3ac5c31b91d42ff",
      "fe8d603953bc4acf9dc79218e17adb93",
      "0a51a086fc7b4343b94fd49e9f994ee5",
      "e9e7521aea7d41628bc078f1a5d23185",
      "1cbfc9e8d7444434bb4196c538f5a493",
      "008c429fe3dc460e80474778556f9b5d",
      "47ff0d394e0940d9b0f5cec8a908aaf6",
      "56f74e30372344c1942ab83a06e4bd15",
      "fc158e0bb7204f12bf611c40ba96dfa8",
      "91789fb676d945f8916b34354edf8bf3",
      "5012e8bd78c84e6d90758b5001de10a0",
      "75ce766e34424d04937661b385b9f4f3",
      "429487d5abf64356becaf9d626f07d10",
      "06c97767d05b49d5830b747fe0ca8561",
      "fa5675b2996a4c4692cf9b311ddd7043",
      "e12632498c8641bc9329016ef941bd0d",
      "b662090247504b84b75a3d8ae636d522"
     ]
    },
    "execution": {
     "iopub.execute_input": "2024-10-07T09:03:11.297665Z",
     "iopub.status.busy": "2024-10-07T09:03:11.297310Z",
     "iopub.status.idle": "2024-10-07T09:03:14.959553Z",
     "shell.execute_reply": "2024-10-07T09:03:14.958645Z",
     "shell.execute_reply.started": "2024-10-07T09:03:11.297633Z"
    },
    "id": "yV-SGUMlT5nx",
    "outputId": "80318683-550b-418b-a3b0-5c208cea2a35"
   },
   "outputs": [],
   "source": [
    "def tokenization(text):\n",
    "    return tokenizer(text[\"text\"], truncation=True)\n",
    "\n",
    "train_data = train_dataset.map(tokenization)\n",
    "test_data = test_dataset.map(tokenization)\n",
    "eval_data = eval_dataset.map(tokenization)"
   ]
  },
  {
   "cell_type": "code",
   "execution_count": null,
   "metadata": {
    "execution": {
     "iopub.execute_input": "2024-10-07T09:03:21.716403Z",
     "iopub.status.busy": "2024-10-07T09:03:21.715659Z",
     "iopub.status.idle": "2024-10-07T09:03:21.724156Z",
     "shell.execute_reply": "2024-10-07T09:03:21.723154Z",
     "shell.execute_reply.started": "2024-10-07T09:03:21.716363Z"
    },
    "id": "NGEa2YLZVH3F"
   },
   "outputs": [],
   "source": [
    "train_data.set_format('torch', columns=['input_ids', 'attention_mask', 'label'])\n",
    "test_data.set_format('torch', columns=['input_ids', 'attention_mask', 'label'])\n",
    "eval_data.set_format('torch', columns=['input_ids', 'attention_mask', 'label'])"
   ]
  },
  {
   "cell_type": "markdown",
   "metadata": {
    "id": "ljwcWa-j3Tm0"
   },
   "source": [
    "- Инициализируйте модель RoBERTa/CodeBERT (AutoModelForSequenceClassification) и объект Trainer, который будет управлять процессом обучения. Определите параметры обучения, такие как количество эпох, размер батча и скорость обучения. Запустите процесс обучения модели на обучающих данных.\n"
   ]
  },
  {
   "cell_type": "code",
   "execution_count": null,
   "metadata": {
    "colab": {
     "base_uri": "https://localhost:8080/",
     "height": 104,
     "referenced_widgets": [
      "f55f676eab7c47bbae81d648f0844544",
      "ad9e1fbff5d34034af453f77212efbc0",
      "3ad3f18fe2954f4d93befdea56835df6",
      "a960ba400521459fbd6f59217ed37da4",
      "c71f33b2056440f796f9d9a80e2e6b79",
      "0a669e29f03a497289b65136776307bd",
      "2830f22502404ff8a24c4dc8955762d3",
      "3559e206c7684acb9b5e9fc9c60082ff",
      "56b893bf9f8d445895db2b1e050b06ee",
      "561b16cdd8a64bf3a90b7bc84524157a",
      "63f7e8ea1d064b9b8b9520305cff5736"
     ]
    },
    "execution": {
     "iopub.execute_input": "2024-10-07T09:16:17.967945Z",
     "iopub.status.busy": "2024-10-07T09:16:17.967485Z",
     "iopub.status.idle": "2024-10-07T09:16:18.240862Z",
     "shell.execute_reply": "2024-10-07T09:16:18.240096Z",
     "shell.execute_reply.started": "2024-10-07T09:16:17.967904Z"
    },
    "id": "rYqVZnRKliG0",
    "outputId": "c5aecf1c-ec90-444a-b3a4-29f8eca2cc71"
   },
   "outputs": [],
   "source": [
    "from transformers import AutoModelForSequenceClassification\n",
    "model = AutoModelForSequenceClassification.from_pretrained('roberta-base', num_labels=2)"
   ]
  },
  {
   "cell_type": "code",
   "execution_count": null,
   "metadata": {
    "execution": {
     "iopub.execute_input": "2024-10-07T09:16:21.330999Z",
     "iopub.status.busy": "2024-10-07T09:16:21.330098Z",
     "iopub.status.idle": "2024-10-07T09:16:21.368064Z",
     "shell.execute_reply": "2024-10-07T09:16:21.367082Z",
     "shell.execute_reply.started": "2024-10-07T09:16:21.330957Z"
    },
    "id": "EkZLo54wWVlb"
   },
   "outputs": [],
   "source": [
    "from transformers import TrainingArguments\n",
    "\n",
    "training_args = TrainingArguments(\n",
    "    output_dir = '.',\n",
    "    num_train_epochs=6,\n",
    "    gradient_accumulation_steps = 14,\n",
    "    per_device_train_batch_size = 4,\n",
    "    per_device_eval_batch_size= 8,\n",
    "    eval_strategy = \"epoch\",\n",
    "    save_strategy=\"epoch\",\n",
    "    load_best_model_at_end=True,\n",
    "    warmup_steps=500,\n",
    "    logging_steps = 10,\n",
    "    dataloader_num_workers = 4,\n",
    "    run_name = 'roberta-classification'\n",
    ")"
   ]
  },
  {
   "cell_type": "markdown",
   "metadata": {
    "id": "NAvQhcdS3WbC"
   },
   "source": [
    "- Оцените качество модели метриками accuracy, precision_recall_fscore_support, добавив в Trainer параметр compute_metrics, реализовав соответствующие метрики.\n"
   ]
  },
  {
   "cell_type": "code",
   "execution_count": null,
   "metadata": {
    "execution": {
     "iopub.execute_input": "2024-10-07T09:16:22.967253Z",
     "iopub.status.busy": "2024-10-07T09:16:22.966873Z",
     "iopub.status.idle": "2024-10-07T09:16:22.974424Z",
     "shell.execute_reply": "2024-10-07T09:16:22.973487Z",
     "shell.execute_reply.started": "2024-10-07T09:16:22.967220Z"
    },
    "id": "JzO5qJdUWYgN"
   },
   "outputs": [],
   "source": [
    "from sklearn.metrics import accuracy_score, precision_recall_fscore_support\n",
    "import numpy as np\n",
    "\n",
    "def calculate_metrics(eval_pred):\n",
    "    predictions, labels = eval_pred\n",
    "    predictions = np.argmax(predictions, axis=1)\n",
    "    precision, recall, f1, _ = precision_recall_fscore_support(labels, predictions, average='binary')\n",
    "    acc = accuracy_score(labels, predictions)\n",
    "    return {\n",
    "        'accuracy': acc,\n",
    "        'f1': f1,\n",
    "        'precision': precision,\n",
    "        'recall': recall\n",
    "    }"
   ]
  },
  {
   "cell_type": "code",
   "execution_count": null,
   "metadata": {
    "colab": {
     "base_uri": "https://localhost:8080/",
     "height": 35
    },
    "execution": {
     "iopub.execute_input": "2024-10-07T09:16:24.471599Z",
     "iopub.status.busy": "2024-10-07T09:16:24.471198Z",
     "iopub.status.idle": "2024-10-07T09:16:24.646522Z",
     "shell.execute_reply": "2024-10-07T09:16:24.645572Z",
     "shell.execute_reply.started": "2024-10-07T09:16:24.471563Z"
    },
    "id": "HAxcPS8TWL_i",
    "outputId": "ea28a04e-1152-4923-a43f-2d4d06526067"
   },
   "outputs": [],
   "source": [
    "from transformers import Trainer\n",
    "import torch\n",
    "\n",
    "trainer = Trainer(\n",
    "    model=model,\n",
    "    args=training_args,\n",
    "    compute_metrics=compute_metrics,\n",
    "    tokenizer=tokenizer,\n",
    "    train_dataset=train_data,\n",
    "    eval_dataset=test_data\n",
    ")\n",
    "\n",
    "device = 'cuda' if torch.cuda.is_available() else 'cpu'\n",
    "device"
   ]
  },
  {
   "cell_type": "code",
   "execution_count": null,
   "metadata": {
    "execution": {
     "iopub.execute_input": "2024-10-07T09:16:26.712935Z",
     "iopub.status.busy": "2024-10-07T09:16:26.711777Z",
     "iopub.status.idle": "2024-10-07T09:25:04.247360Z",
     "shell.execute_reply": "2024-10-07T09:25:04.246388Z",
     "shell.execute_reply.started": "2024-10-07T09:16:26.712895Z"
    },
    "id": "dmZZCTMNbBAS",
    "outputId": "a1fc3806-0d5b-4531-85c6-a07ece6a962c"
   },
   "outputs": [],
   "source": [
    "trainer.train()"
   ]
  },
  {
   "cell_type": "code",
   "execution_count": null,
   "metadata": {
    "execution": {
     "iopub.execute_input": "2024-10-07T09:25:04.249479Z",
     "iopub.status.busy": "2024-10-07T09:25:04.249154Z",
     "iopub.status.idle": "2024-10-07T09:25:19.037700Z",
     "shell.execute_reply": "2024-10-07T09:25:19.036787Z",
     "shell.execute_reply.started": "2024-10-07T09:25:04.249445Z"
    },
    "id": "jk4Sp3kEqYaf",
    "outputId": "138bceb5-5ac8-44aa-ef5a-1ee187958913"
   },
   "outputs": [],
   "source": [
    "trainer.evaluate()"
   ]
  },
  {
   "cell_type": "code",
   "execution_count": null,
   "metadata": {
    "execution": {
     "iopub.execute_input": "2024-10-07T09:25:19.039679Z",
     "iopub.status.busy": "2024-10-07T09:25:19.039288Z",
     "iopub.status.idle": "2024-10-07T09:25:38.979098Z",
     "shell.execute_reply": "2024-10-07T09:25:38.978148Z",
     "shell.execute_reply.started": "2024-10-07T09:25:19.039633Z"
    },
    "id": "Zb6bpBQ_qY8w",
    "outputId": "0aecb6dc-d08e-460c-f902-f656bbd58a40"
   },
   "outputs": [],
   "source": [
    "predictions=trainer.predict(eval_data).predictions\n",
    "predictions = np.argmax(predictions, axis=1)\n",
    "predictions"
   ]
  },
  {
   "cell_type": "code",
   "execution_count": null,
   "metadata": {
    "execution": {
     "iopub.execute_input": "2024-10-07T09:25:38.981465Z",
     "iopub.status.busy": "2024-10-07T09:25:38.981151Z",
     "iopub.status.idle": "2024-10-07T09:25:38.992242Z",
     "shell.execute_reply": "2024-10-07T09:25:38.991254Z",
     "shell.execute_reply.started": "2024-10-07T09:25:38.981432Z"
    },
    "id": "9GPHUa85sCSF",
    "outputId": "02912ade-3ad6-460a-8177-1cb3070f45ad"
   },
   "outputs": [],
   "source": [
    "compute_confusion_matrix(y_eval, list(predictions))\n",
    "# TP FP\n",
    "# FN TN"
   ]
  },
  {
   "cell_type": "markdown",
   "metadata": {
    "id": "LFmmlxh5b5Zl"
   },
   "source": [
    "В данном случае доля FP выше доли FN, модель склона немного перееоценивать токсичность комментариев\n"
   ]
  },
  {
   "cell_type": "markdown",
   "metadata": {
    "id": "AP5iEb1_3ZyA"
   },
   "source": [
    "- Подготовьте краткий (1-2 стр.) отчет, который будет включать сравнение по метрикам accuracy, precision, recall, f1-score всех реализованных моделей на отложенном eval наборе данных."
   ]
  },
  {
   "cell_type": "code",
   "execution_count": null,
   "metadata": {
    "execution": {
     "iopub.execute_input": "2024-10-07T09:25:38.993978Z",
     "iopub.status.busy": "2024-10-07T09:25:38.993557Z",
     "iopub.status.idle": "2024-10-07T09:25:39.001185Z",
     "shell.execute_reply": "2024-10-07T09:25:39.000294Z",
     "shell.execute_reply.started": "2024-10-07T09:25:38.993931Z"
    },
    "id": "bA5ZuR7DPy_M"
   },
   "outputs": [],
   "source": [
    "def print_metrics_on_eval(predictions):\n",
    "    precision, recall, f1, _ = precision_recall_fscore_support(y_eval, predictions, average='binary')\n",
    "    acc = accuracy_score(y_eval, predictions)\n",
    "    print(f\"accuracy: {acc}\")\n",
    "    print(f\"precision: {precision}\")\n",
    "    print(f\"recall: {recall}\")\n",
    "    print(f\"f1: {f1}\")\n"
   ]
  },
  {
   "cell_type": "code",
   "execution_count": null,
   "metadata": {
    "execution": {
     "iopub.execute_input": "2024-10-07T09:31:55.064819Z",
     "iopub.status.busy": "2024-10-07T09:31:55.063807Z",
     "iopub.status.idle": "2024-10-07T09:31:55.682023Z",
     "shell.execute_reply": "2024-10-07T09:31:55.680950Z",
     "shell.execute_reply.started": "2024-10-07T09:31:55.064774Z"
    },
    "id": "CafHupn7bBAT",
    "outputId": "14eae956-facd-468b-dc46-4098a956f124"
   },
   "outputs": [],
   "source": [
    "predictions = rf_best.predict(eval)\n",
    "print_metrics_on_eval(predictions)"
   ]
  },
  {
   "cell_type": "code",
   "execution_count": null,
   "metadata": {
    "execution": {
     "iopub.execute_input": "2024-10-07T09:25:52.277656Z",
     "iopub.status.busy": "2024-10-07T09:25:52.276794Z",
     "iopub.status.idle": "2024-10-07T09:26:11.445671Z",
     "shell.execute_reply": "2024-10-07T09:26:11.444630Z",
     "shell.execute_reply.started": "2024-10-07T09:25:52.277615Z"
    },
    "id": "H46X2o03H3AT",
    "outputId": "53e63d40-6a0d-4b07-ba7a-f25fb7f0463a"
   },
   "outputs": [],
   "source": [
    "predictions = np.argmax(trainer.predict(eval_data).predictions, axis=1)\n",
    "print_metrics_on_eval(predictions)"
   ]
  },
  {
   "cell_type": "markdown",
   "metadata": {
    "id": "ix66GaAQcf9a"
   },
   "source": [
    "Видно, что результат трансформера получился в целом немного лучше по всем метрикам, чем классической модели машинного обучения"
   ]
  },
  {
   "cell_type": "markdown",
   "metadata": {
    "id": "q1XvxzkmcsGg"
   },
   "source": [
    "В отчете опишите все проблемы, с которыми вы столкнулись, и как вы их решили."
   ]
  },
  {
   "cell_type": "markdown",
   "metadata": {
    "id": "g4FPOKHg0Nij"
   },
   "source": [
    "Проблемы\n",
    "- Некоторые вещи приходилось гуглить на  ходу\n",
    "- Некоторые модели очень долго обучались, несмотря на достаточно мощное железо"
   ]
  }
 ],
 "metadata": {
  "accelerator": "GPU",
  "colab": {
   "gpuType": "T4",
   "provenance": []
  },
  "kaggle": {
   "accelerator": "nvidiaTeslaT4",
   "dataSources": [
    {
     "datasetId": 5827593,
     "sourceId": 9562591,
     "sourceType": "datasetVersion"
    }
   ],
   "dockerImageVersionId": 30786,
   "isGpuEnabled": true,
   "isInternetEnabled": true,
   "language": "python",
   "sourceType": "notebook"
  },
  "kernelspec": {
   "display_name": "Python 3 (ipykernel)",
   "language": "python",
   "name": "python3"
  },
  "language_info": {
   "codemirror_mode": {
    "name": "ipython",
    "version": 3
   },
   "file_extension": ".py",
   "mimetype": "text/x-python",
   "name": "python",
   "nbconvert_exporter": "python",
   "pygments_lexer": "ipython3",
   "version": "3.11.5"
  },
  "widgets": {
   "application/vnd.jupyter.widget-state+json": {
    "008c429fe3dc460e80474778556f9b5d": {
     "model_module": "@jupyter-widgets/controls",
     "model_module_version": "1.5.0",
     "model_name": "FloatProgressModel",
     "state": {
      "_dom_classes": [],
      "_model_module": "@jupyter-widgets/controls",
      "_model_module_version": "1.5.0",
      "_model_name": "FloatProgressModel",
      "_view_count": null,
      "_view_module": "@jupyter-widgets/controls",
      "_view_module_version": "1.5.0",
      "_view_name": "ProgressView",
      "bar_style": "success",
      "description": "",
      "description_tooltip": null,
      "layout": "IPY_MODEL_5012e8bd78c84e6d90758b5001de10a0",
      "max": 3226,
      "min": 0,
      "orientation": "horizontal",
      "style": "IPY_MODEL_75ce766e34424d04937661b385b9f4f3",
      "value": 3226
     }
    },
    "01285c5314dd446d8585b4c840187649": {
     "model_module": "@jupyter-widgets/base",
     "model_module_version": "1.2.0",
     "model_name": "LayoutModel",
     "state": {
      "_model_module": "@jupyter-widgets/base",
      "_model_module_version": "1.2.0",
      "_model_name": "LayoutModel",
      "_view_count": null,
      "_view_module": "@jupyter-widgets/base",
      "_view_module_version": "1.2.0",
      "_view_name": "LayoutView",
      "align_content": null,
      "align_items": null,
      "align_self": null,
      "border": null,
      "bottom": null,
      "display": null,
      "flex": null,
      "flex_flow": null,
      "grid_area": null,
      "grid_auto_columns": null,
      "grid_auto_flow": null,
      "grid_auto_rows": null,
      "grid_column": null,
      "grid_gap": null,
      "grid_row": null,
      "grid_template_areas": null,
      "grid_template_columns": null,
      "grid_template_rows": null,
      "height": null,
      "justify_content": null,
      "justify_items": null,
      "left": null,
      "margin": null,
      "max_height": null,
      "max_width": null,
      "min_height": null,
      "min_width": null,
      "object_fit": null,
      "object_position": null,
      "order": null,
      "overflow": null,
      "overflow_x": null,
      "overflow_y": null,
      "padding": null,
      "right": null,
      "top": null,
      "visibility": null,
      "width": null
     }
    },
    "04e15ff028284c489b9e184db365c601": {
     "model_module": "@jupyter-widgets/controls",
     "model_module_version": "1.5.0",
     "model_name": "DescriptionStyleModel",
     "state": {
      "_model_module": "@jupyter-widgets/controls",
      "_model_module_version": "1.5.0",
      "_model_name": "DescriptionStyleModel",
      "_view_count": null,
      "_view_module": "@jupyter-widgets/base",
      "_view_module_version": "1.2.0",
      "_view_name": "StyleView",
      "description_width": ""
     }
    },
    "06c97767d05b49d5830b747fe0ca8561": {
     "model_module": "@jupyter-widgets/controls",
     "model_module_version": "1.5.0",
     "model_name": "DescriptionStyleModel",
     "state": {
      "_model_module": "@jupyter-widgets/controls",
      "_model_module_version": "1.5.0",
      "_model_name": "DescriptionStyleModel",
      "_view_count": null,
      "_view_module": "@jupyter-widgets/base",
      "_view_module_version": "1.2.0",
      "_view_name": "StyleView",
      "description_width": ""
     }
    },
    "07083cbca00b4eb4916fdda6137733c6": {
     "model_module": "@jupyter-widgets/controls",
     "model_module_version": "1.5.0",
     "model_name": "ProgressStyleModel",
     "state": {
      "_model_module": "@jupyter-widgets/controls",
      "_model_module_version": "1.5.0",
      "_model_name": "ProgressStyleModel",
      "_view_count": null,
      "_view_module": "@jupyter-widgets/base",
      "_view_module_version": "1.2.0",
      "_view_name": "StyleView",
      "bar_color": null,
      "description_width": ""
     }
    },
    "0a51a086fc7b4343b94fd49e9f994ee5": {
     "model_module": "@jupyter-widgets/controls",
     "model_module_version": "1.5.0",
     "model_name": "DescriptionStyleModel",
     "state": {
      "_model_module": "@jupyter-widgets/controls",
      "_model_module_version": "1.5.0",
      "_model_name": "DescriptionStyleModel",
      "_view_count": null,
      "_view_module": "@jupyter-widgets/base",
      "_view_module_version": "1.2.0",
      "_view_name": "StyleView",
      "description_width": ""
     }
    },
    "0a669e29f03a497289b65136776307bd": {
     "model_module": "@jupyter-widgets/base",
     "model_module_version": "1.2.0",
     "model_name": "LayoutModel",
     "state": {
      "_model_module": "@jupyter-widgets/base",
      "_model_module_version": "1.2.0",
      "_model_name": "LayoutModel",
      "_view_count": null,
      "_view_module": "@jupyter-widgets/base",
      "_view_module_version": "1.2.0",
      "_view_name": "LayoutView",
      "align_content": null,
      "align_items": null,
      "align_self": null,
      "border": null,
      "bottom": null,
      "display": null,
      "flex": null,
      "flex_flow": null,
      "grid_area": null,
      "grid_auto_columns": null,
      "grid_auto_flow": null,
      "grid_auto_rows": null,
      "grid_column": null,
      "grid_gap": null,
      "grid_row": null,
      "grid_template_areas": null,
      "grid_template_columns": null,
      "grid_template_rows": null,
      "height": null,
      "justify_content": null,
      "justify_items": null,
      "left": null,
      "margin": null,
      "max_height": null,
      "max_width": null,
      "min_height": null,
      "min_width": null,
      "object_fit": null,
      "object_position": null,
      "order": null,
      "overflow": null,
      "overflow_x": null,
      "overflow_y": null,
      "padding": null,
      "right": null,
      "top": null,
      "visibility": null,
      "width": null
     }
    },
    "1cbfc9e8d7444434bb4196c538f5a493": {
     "model_module": "@jupyter-widgets/controls",
     "model_module_version": "1.5.0",
     "model_name": "HTMLModel",
     "state": {
      "_dom_classes": [],
      "_model_module": "@jupyter-widgets/controls",
      "_model_module_version": "1.5.0",
      "_model_name": "HTMLModel",
      "_view_count": null,
      "_view_module": "@jupyter-widgets/controls",
      "_view_module_version": "1.5.0",
      "_view_name": "HTMLView",
      "description": "",
      "description_tooltip": null,
      "layout": "IPY_MODEL_fc158e0bb7204f12bf611c40ba96dfa8",
      "placeholder": "​",
      "style": "IPY_MODEL_91789fb676d945f8916b34354edf8bf3",
      "value": "Map: 100%"
     }
    },
    "1f487d2852374517bab84009bb3cf6bf": {
     "model_module": "@jupyter-widgets/base",
     "model_module_version": "1.2.0",
     "model_name": "LayoutModel",
     "state": {
      "_model_module": "@jupyter-widgets/base",
      "_model_module_version": "1.2.0",
      "_model_name": "LayoutModel",
      "_view_count": null,
      "_view_module": "@jupyter-widgets/base",
      "_view_module_version": "1.2.0",
      "_view_name": "LayoutView",
      "align_content": null,
      "align_items": null,
      "align_self": null,
      "border": null,
      "bottom": null,
      "display": null,
      "flex": null,
      "flex_flow": null,
      "grid_area": null,
      "grid_auto_columns": null,
      "grid_auto_flow": null,
      "grid_auto_rows": null,
      "grid_column": null,
      "grid_gap": null,
      "grid_row": null,
      "grid_template_areas": null,
      "grid_template_columns": null,
      "grid_template_rows": null,
      "height": null,
      "justify_content": null,
      "justify_items": null,
      "left": null,
      "margin": null,
      "max_height": null,
      "max_width": null,
      "min_height": null,
      "min_width": null,
      "object_fit": null,
      "object_position": null,
      "order": null,
      "overflow": null,
      "overflow_x": null,
      "overflow_y": null,
      "padding": null,
      "right": null,
      "top": null,
      "visibility": null,
      "width": null
     }
    },
    "2830f22502404ff8a24c4dc8955762d3": {
     "model_module": "@jupyter-widgets/controls",
     "model_module_version": "1.5.0",
     "model_name": "DescriptionStyleModel",
     "state": {
      "_model_module": "@jupyter-widgets/controls",
      "_model_module_version": "1.5.0",
      "_model_name": "DescriptionStyleModel",
      "_view_count": null,
      "_view_module": "@jupyter-widgets/base",
      "_view_module_version": "1.2.0",
      "_view_name": "StyleView",
      "description_width": ""
     }
    },
    "3559e206c7684acb9b5e9fc9c60082ff": {
     "model_module": "@jupyter-widgets/base",
     "model_module_version": "1.2.0",
     "model_name": "LayoutModel",
     "state": {
      "_model_module": "@jupyter-widgets/base",
      "_model_module_version": "1.2.0",
      "_model_name": "LayoutModel",
      "_view_count": null,
      "_view_module": "@jupyter-widgets/base",
      "_view_module_version": "1.2.0",
      "_view_name": "LayoutView",
      "align_content": null,
      "align_items": null,
      "align_self": null,
      "border": null,
      "bottom": null,
      "display": null,
      "flex": null,
      "flex_flow": null,
      "grid_area": null,
      "grid_auto_columns": null,
      "grid_auto_flow": null,
      "grid_auto_rows": null,
      "grid_column": null,
      "grid_gap": null,
      "grid_row": null,
      "grid_template_areas": null,
      "grid_template_columns": null,
      "grid_template_rows": null,
      "height": null,
      "justify_content": null,
      "justify_items": null,
      "left": null,
      "margin": null,
      "max_height": null,
      "max_width": null,
      "min_height": null,
      "min_width": null,
      "object_fit": null,
      "object_position": null,
      "order": null,
      "overflow": null,
      "overflow_x": null,
      "overflow_y": null,
      "padding": null,
      "right": null,
      "top": null,
      "visibility": null,
      "width": null
     }
    },
    "365f246932ee496cad6ee18e31cc0c73": {
     "model_module": "@jupyter-widgets/controls",
     "model_module_version": "1.5.0",
     "model_name": "HTMLModel",
     "state": {
      "_dom_classes": [],
      "_model_module": "@jupyter-widgets/controls",
      "_model_module_version": "1.5.0",
      "_model_name": "HTMLModel",
      "_view_count": null,
      "_view_module": "@jupyter-widgets/controls",
      "_view_module_version": "1.5.0",
      "_view_name": "HTMLView",
      "description": "",
      "description_tooltip": null,
      "layout": "IPY_MODEL_609430af98104ec982eadb84d6e5dabc",
      "placeholder": "​",
      "style": "IPY_MODEL_04e15ff028284c489b9e184db365c601",
      "value": " 7258/7258 [00:02&lt;00:00, 3251.03 examples/s]"
     }
    },
    "3ab5e1d7aa264a32b2e4c282aabd4757": {
     "model_module": "@jupyter-widgets/controls",
     "model_module_version": "1.5.0",
     "model_name": "HTMLModel",
     "state": {
      "_dom_classes": [],
      "_model_module": "@jupyter-widgets/controls",
      "_model_module_version": "1.5.0",
      "_model_name": "HTMLModel",
      "_view_count": null,
      "_view_module": "@jupyter-widgets/controls",
      "_view_module_version": "1.5.0",
      "_view_name": "HTMLView",
      "description": "",
      "description_tooltip": null,
      "layout": "IPY_MODEL_1f487d2852374517bab84009bb3cf6bf",
      "placeholder": "​",
      "style": "IPY_MODEL_ab377e9bec234054ba964be47511df31",
      "value": "Map: 100%"
     }
    },
    "3ad3f18fe2954f4d93befdea56835df6": {
     "model_module": "@jupyter-widgets/controls",
     "model_module_version": "1.5.0",
     "model_name": "FloatProgressModel",
     "state": {
      "_dom_classes": [],
      "_model_module": "@jupyter-widgets/controls",
      "_model_module_version": "1.5.0",
      "_model_name": "FloatProgressModel",
      "_view_count": null,
      "_view_module": "@jupyter-widgets/controls",
      "_view_module_version": "1.5.0",
      "_view_name": "ProgressView",
      "bar_style": "success",
      "description": "",
      "description_tooltip": null,
      "layout": "IPY_MODEL_3559e206c7684acb9b5e9fc9c60082ff",
      "max": 498818054,
      "min": 0,
      "orientation": "horizontal",
      "style": "IPY_MODEL_56b893bf9f8d445895db2b1e050b06ee",
      "value": 498818054
     }
    },
    "3b532ef65b114c4dbbb82c13e513615c": {
     "model_module": "@jupyter-widgets/controls",
     "model_module_version": "1.5.0",
     "model_name": "FloatProgressModel",
     "state": {
      "_dom_classes": [],
      "_model_module": "@jupyter-widgets/controls",
      "_model_module_version": "1.5.0",
      "_model_name": "FloatProgressModel",
      "_view_count": null,
      "_view_module": "@jupyter-widgets/controls",
      "_view_module_version": "1.5.0",
      "_view_name": "ProgressView",
      "bar_style": "success",
      "description": "",
      "description_tooltip": null,
      "layout": "IPY_MODEL_01285c5314dd446d8585b4c840187649",
      "max": 7258,
      "min": 0,
      "orientation": "horizontal",
      "style": "IPY_MODEL_07083cbca00b4eb4916fdda6137733c6",
      "value": 7258
     }
    },
    "429487d5abf64356becaf9d626f07d10": {
     "model_module": "@jupyter-widgets/base",
     "model_module_version": "1.2.0",
     "model_name": "LayoutModel",
     "state": {
      "_model_module": "@jupyter-widgets/base",
      "_model_module_version": "1.2.0",
      "_model_name": "LayoutModel",
      "_view_count": null,
      "_view_module": "@jupyter-widgets/base",
      "_view_module_version": "1.2.0",
      "_view_name": "LayoutView",
      "align_content": null,
      "align_items": null,
      "align_self": null,
      "border": null,
      "bottom": null,
      "display": null,
      "flex": null,
      "flex_flow": null,
      "grid_area": null,
      "grid_auto_columns": null,
      "grid_auto_flow": null,
      "grid_auto_rows": null,
      "grid_column": null,
      "grid_gap": null,
      "grid_row": null,
      "grid_template_areas": null,
      "grid_template_columns": null,
      "grid_template_rows": null,
      "height": null,
      "justify_content": null,
      "justify_items": null,
      "left": null,
      "margin": null,
      "max_height": null,
      "max_width": null,
      "min_height": null,
      "min_width": null,
      "object_fit": null,
      "object_position": null,
      "order": null,
      "overflow": null,
      "overflow_x": null,
      "overflow_y": null,
      "padding": null,
      "right": null,
      "top": null,
      "visibility": null,
      "width": null
     }
    },
    "47ff0d394e0940d9b0f5cec8a908aaf6": {
     "model_module": "@jupyter-widgets/controls",
     "model_module_version": "1.5.0",
     "model_name": "HTMLModel",
     "state": {
      "_dom_classes": [],
      "_model_module": "@jupyter-widgets/controls",
      "_model_module_version": "1.5.0",
      "_model_name": "HTMLModel",
      "_view_count": null,
      "_view_module": "@jupyter-widgets/controls",
      "_view_module_version": "1.5.0",
      "_view_name": "HTMLView",
      "description": "",
      "description_tooltip": null,
      "layout": "IPY_MODEL_429487d5abf64356becaf9d626f07d10",
      "placeholder": "​",
      "style": "IPY_MODEL_06c97767d05b49d5830b747fe0ca8561",
      "value": " 3226/3226 [00:01&lt;00:00, 3026.46 examples/s]"
     }
    },
    "5012e8bd78c84e6d90758b5001de10a0": {
     "model_module": "@jupyter-widgets/base",
     "model_module_version": "1.2.0",
     "model_name": "LayoutModel",
     "state": {
      "_model_module": "@jupyter-widgets/base",
      "_model_module_version": "1.2.0",
      "_model_name": "LayoutModel",
      "_view_count": null,
      "_view_module": "@jupyter-widgets/base",
      "_view_module_version": "1.2.0",
      "_view_name": "LayoutView",
      "align_content": null,
      "align_items": null,
      "align_self": null,
      "border": null,
      "bottom": null,
      "display": null,
      "flex": null,
      "flex_flow": null,
      "grid_area": null,
      "grid_auto_columns": null,
      "grid_auto_flow": null,
      "grid_auto_rows": null,
      "grid_column": null,
      "grid_gap": null,
      "grid_row": null,
      "grid_template_areas": null,
      "grid_template_columns": null,
      "grid_template_rows": null,
      "height": null,
      "justify_content": null,
      "justify_items": null,
      "left": null,
      "margin": null,
      "max_height": null,
      "max_width": null,
      "min_height": null,
      "min_width": null,
      "object_fit": null,
      "object_position": null,
      "order": null,
      "overflow": null,
      "overflow_x": null,
      "overflow_y": null,
      "padding": null,
      "right": null,
      "top": null,
      "visibility": null,
      "width": null
     }
    },
    "561b16cdd8a64bf3a90b7bc84524157a": {
     "model_module": "@jupyter-widgets/base",
     "model_module_version": "1.2.0",
     "model_name": "LayoutModel",
     "state": {
      "_model_module": "@jupyter-widgets/base",
      "_model_module_version": "1.2.0",
      "_model_name": "LayoutModel",
      "_view_count": null,
      "_view_module": "@jupyter-widgets/base",
      "_view_module_version": "1.2.0",
      "_view_name": "LayoutView",
      "align_content": null,
      "align_items": null,
      "align_self": null,
      "border": null,
      "bottom": null,
      "display": null,
      "flex": null,
      "flex_flow": null,
      "grid_area": null,
      "grid_auto_columns": null,
      "grid_auto_flow": null,
      "grid_auto_rows": null,
      "grid_column": null,
      "grid_gap": null,
      "grid_row": null,
      "grid_template_areas": null,
      "grid_template_columns": null,
      "grid_template_rows": null,
      "height": null,
      "justify_content": null,
      "justify_items": null,
      "left": null,
      "margin": null,
      "max_height": null,
      "max_width": null,
      "min_height": null,
      "min_width": null,
      "object_fit": null,
      "object_position": null,
      "order": null,
      "overflow": null,
      "overflow_x": null,
      "overflow_y": null,
      "padding": null,
      "right": null,
      "top": null,
      "visibility": null,
      "width": null
     }
    },
    "56b893bf9f8d445895db2b1e050b06ee": {
     "model_module": "@jupyter-widgets/controls",
     "model_module_version": "1.5.0",
     "model_name": "ProgressStyleModel",
     "state": {
      "_model_module": "@jupyter-widgets/controls",
      "_model_module_version": "1.5.0",
      "_model_name": "ProgressStyleModel",
      "_view_count": null,
      "_view_module": "@jupyter-widgets/base",
      "_view_module_version": "1.2.0",
      "_view_name": "StyleView",
      "bar_color": null,
      "description_width": ""
     }
    },
    "56f74e30372344c1942ab83a06e4bd15": {
     "model_module": "@jupyter-widgets/base",
     "model_module_version": "1.2.0",
     "model_name": "LayoutModel",
     "state": {
      "_model_module": "@jupyter-widgets/base",
      "_model_module_version": "1.2.0",
      "_model_name": "LayoutModel",
      "_view_count": null,
      "_view_module": "@jupyter-widgets/base",
      "_view_module_version": "1.2.0",
      "_view_name": "LayoutView",
      "align_content": null,
      "align_items": null,
      "align_self": null,
      "border": null,
      "bottom": null,
      "display": null,
      "flex": null,
      "flex_flow": null,
      "grid_area": null,
      "grid_auto_columns": null,
      "grid_auto_flow": null,
      "grid_auto_rows": null,
      "grid_column": null,
      "grid_gap": null,
      "grid_row": null,
      "grid_template_areas": null,
      "grid_template_columns": null,
      "grid_template_rows": null,
      "height": null,
      "justify_content": null,
      "justify_items": null,
      "left": null,
      "margin": null,
      "max_height": null,
      "max_width": null,
      "min_height": null,
      "min_width": null,
      "object_fit": null,
      "object_position": null,
      "order": null,
      "overflow": null,
      "overflow_x": null,
      "overflow_y": null,
      "padding": null,
      "right": null,
      "top": null,
      "visibility": null,
      "width": null
     }
    },
    "57b4c2eeba7e4a8fa3ac5c31b91d42ff": {
     "model_module": "@jupyter-widgets/controls",
     "model_module_version": "1.5.0",
     "model_name": "ProgressStyleModel",
     "state": {
      "_model_module": "@jupyter-widgets/controls",
      "_model_module_version": "1.5.0",
      "_model_name": "ProgressStyleModel",
      "_view_count": null,
      "_view_module": "@jupyter-widgets/base",
      "_view_module_version": "1.2.0",
      "_view_name": "StyleView",
      "bar_color": null,
      "description_width": ""
     }
    },
    "599616570891486db44c11c14ff7149e": {
     "model_module": "@jupyter-widgets/base",
     "model_module_version": "1.2.0",
     "model_name": "LayoutModel",
     "state": {
      "_model_module": "@jupyter-widgets/base",
      "_model_module_version": "1.2.0",
      "_model_name": "LayoutModel",
      "_view_count": null,
      "_view_module": "@jupyter-widgets/base",
      "_view_module_version": "1.2.0",
      "_view_name": "LayoutView",
      "align_content": null,
      "align_items": null,
      "align_self": null,
      "border": null,
      "bottom": null,
      "display": null,
      "flex": null,
      "flex_flow": null,
      "grid_area": null,
      "grid_auto_columns": null,
      "grid_auto_flow": null,
      "grid_auto_rows": null,
      "grid_column": null,
      "grid_gap": null,
      "grid_row": null,
      "grid_template_areas": null,
      "grid_template_columns": null,
      "grid_template_rows": null,
      "height": null,
      "justify_content": null,
      "justify_items": null,
      "left": null,
      "margin": null,
      "max_height": null,
      "max_width": null,
      "min_height": null,
      "min_width": null,
      "object_fit": null,
      "object_position": null,
      "order": null,
      "overflow": null,
      "overflow_x": null,
      "overflow_y": null,
      "padding": null,
      "right": null,
      "top": null,
      "visibility": null,
      "width": null
     }
    },
    "609430af98104ec982eadb84d6e5dabc": {
     "model_module": "@jupyter-widgets/base",
     "model_module_version": "1.2.0",
     "model_name": "LayoutModel",
     "state": {
      "_model_module": "@jupyter-widgets/base",
      "_model_module_version": "1.2.0",
      "_model_name": "LayoutModel",
      "_view_count": null,
      "_view_module": "@jupyter-widgets/base",
      "_view_module_version": "1.2.0",
      "_view_name": "LayoutView",
      "align_content": null,
      "align_items": null,
      "align_self": null,
      "border": null,
      "bottom": null,
      "display": null,
      "flex": null,
      "flex_flow": null,
      "grid_area": null,
      "grid_auto_columns": null,
      "grid_auto_flow": null,
      "grid_auto_rows": null,
      "grid_column": null,
      "grid_gap": null,
      "grid_row": null,
      "grid_template_areas": null,
      "grid_template_columns": null,
      "grid_template_rows": null,
      "height": null,
      "justify_content": null,
      "justify_items": null,
      "left": null,
      "margin": null,
      "max_height": null,
      "max_width": null,
      "min_height": null,
      "min_width": null,
      "object_fit": null,
      "object_position": null,
      "order": null,
      "overflow": null,
      "overflow_x": null,
      "overflow_y": null,
      "padding": null,
      "right": null,
      "top": null,
      "visibility": null,
      "width": null
     }
    },
    "63f7e8ea1d064b9b8b9520305cff5736": {
     "model_module": "@jupyter-widgets/controls",
     "model_module_version": "1.5.0",
     "model_name": "DescriptionStyleModel",
     "state": {
      "_model_module": "@jupyter-widgets/controls",
      "_model_module_version": "1.5.0",
      "_model_name": "DescriptionStyleModel",
      "_view_count": null,
      "_view_module": "@jupyter-widgets/base",
      "_view_module_version": "1.2.0",
      "_view_name": "StyleView",
      "description_width": ""
     }
    },
    "66ef0d3e5d0942759e9088a01811d588": {
     "model_module": "@jupyter-widgets/base",
     "model_module_version": "1.2.0",
     "model_name": "LayoutModel",
     "state": {
      "_model_module": "@jupyter-widgets/base",
      "_model_module_version": "1.2.0",
      "_model_name": "LayoutModel",
      "_view_count": null,
      "_view_module": "@jupyter-widgets/base",
      "_view_module_version": "1.2.0",
      "_view_name": "LayoutView",
      "align_content": null,
      "align_items": null,
      "align_self": null,
      "border": null,
      "bottom": null,
      "display": null,
      "flex": null,
      "flex_flow": null,
      "grid_area": null,
      "grid_auto_columns": null,
      "grid_auto_flow": null,
      "grid_auto_rows": null,
      "grid_column": null,
      "grid_gap": null,
      "grid_row": null,
      "grid_template_areas": null,
      "grid_template_columns": null,
      "grid_template_rows": null,
      "height": null,
      "justify_content": null,
      "justify_items": null,
      "left": null,
      "margin": null,
      "max_height": null,
      "max_width": null,
      "min_height": null,
      "min_width": null,
      "object_fit": null,
      "object_position": null,
      "order": null,
      "overflow": null,
      "overflow_x": null,
      "overflow_y": null,
      "padding": null,
      "right": null,
      "top": null,
      "visibility": null,
      "width": null
     }
    },
    "75ce766e34424d04937661b385b9f4f3": {
     "model_module": "@jupyter-widgets/controls",
     "model_module_version": "1.5.0",
     "model_name": "ProgressStyleModel",
     "state": {
      "_model_module": "@jupyter-widgets/controls",
      "_model_module_version": "1.5.0",
      "_model_name": "ProgressStyleModel",
      "_view_count": null,
      "_view_module": "@jupyter-widgets/base",
      "_view_module_version": "1.2.0",
      "_view_name": "StyleView",
      "bar_color": null,
      "description_width": ""
     }
    },
    "91789fb676d945f8916b34354edf8bf3": {
     "model_module": "@jupyter-widgets/controls",
     "model_module_version": "1.5.0",
     "model_name": "DescriptionStyleModel",
     "state": {
      "_model_module": "@jupyter-widgets/controls",
      "_model_module_version": "1.5.0",
      "_model_name": "DescriptionStyleModel",
      "_view_count": null,
      "_view_module": "@jupyter-widgets/base",
      "_view_module_version": "1.2.0",
      "_view_name": "StyleView",
      "description_width": ""
     }
    },
    "9475e6ec7fa04b2390b4093da3b1dcf1": {
     "model_module": "@jupyter-widgets/controls",
     "model_module_version": "1.5.0",
     "model_name": "HBoxModel",
     "state": {
      "_dom_classes": [],
      "_model_module": "@jupyter-widgets/controls",
      "_model_module_version": "1.5.0",
      "_model_name": "HBoxModel",
      "_view_count": null,
      "_view_module": "@jupyter-widgets/controls",
      "_view_module_version": "1.5.0",
      "_view_name": "HBoxView",
      "box_style": "",
      "children": [
       "IPY_MODEL_3ab5e1d7aa264a32b2e4c282aabd4757",
       "IPY_MODEL_94ffdca7818f48859f369b83f67c1b5b",
       "IPY_MODEL_d9a1ab2738314b17a71dc986425a3de6"
      ],
      "layout": "IPY_MODEL_dab0d0a414154c4c830cf467f7fe693c"
     }
    },
    "94ffdca7818f48859f369b83f67c1b5b": {
     "model_module": "@jupyter-widgets/controls",
     "model_module_version": "1.5.0",
     "model_name": "FloatProgressModel",
     "state": {
      "_dom_classes": [],
      "_model_module": "@jupyter-widgets/controls",
      "_model_module_version": "1.5.0",
      "_model_name": "FloatProgressModel",
      "_view_count": null,
      "_view_module": "@jupyter-widgets/controls",
      "_view_module_version": "1.5.0",
      "_view_name": "ProgressView",
      "bar_style": "success",
      "description": "",
      "description_tooltip": null,
      "layout": "IPY_MODEL_599616570891486db44c11c14ff7149e",
      "max": 2420,
      "min": 0,
      "orientation": "horizontal",
      "style": "IPY_MODEL_57b4c2eeba7e4a8fa3ac5c31b91d42ff",
      "value": 2420
     }
    },
    "a960ba400521459fbd6f59217ed37da4": {
     "model_module": "@jupyter-widgets/controls",
     "model_module_version": "1.5.0",
     "model_name": "HTMLModel",
     "state": {
      "_dom_classes": [],
      "_model_module": "@jupyter-widgets/controls",
      "_model_module_version": "1.5.0",
      "_model_name": "HTMLModel",
      "_view_count": null,
      "_view_module": "@jupyter-widgets/controls",
      "_view_module_version": "1.5.0",
      "_view_name": "HTMLView",
      "description": "",
      "description_tooltip": null,
      "layout": "IPY_MODEL_561b16cdd8a64bf3a90b7bc84524157a",
      "placeholder": "​",
      "style": "IPY_MODEL_63f7e8ea1d064b9b8b9520305cff5736",
      "value": " 499M/499M [00:06&lt;00:00, 33.5MB/s]"
     }
    },
    "ab377e9bec234054ba964be47511df31": {
     "model_module": "@jupyter-widgets/controls",
     "model_module_version": "1.5.0",
     "model_name": "DescriptionStyleModel",
     "state": {
      "_model_module": "@jupyter-widgets/controls",
      "_model_module_version": "1.5.0",
      "_model_name": "DescriptionStyleModel",
      "_view_count": null,
      "_view_module": "@jupyter-widgets/base",
      "_view_module_version": "1.2.0",
      "_view_name": "StyleView",
      "description_width": ""
     }
    },
    "ad9e1fbff5d34034af453f77212efbc0": {
     "model_module": "@jupyter-widgets/controls",
     "model_module_version": "1.5.0",
     "model_name": "HTMLModel",
     "state": {
      "_dom_classes": [],
      "_model_module": "@jupyter-widgets/controls",
      "_model_module_version": "1.5.0",
      "_model_name": "HTMLModel",
      "_view_count": null,
      "_view_module": "@jupyter-widgets/controls",
      "_view_module_version": "1.5.0",
      "_view_name": "HTMLView",
      "description": "",
      "description_tooltip": null,
      "layout": "IPY_MODEL_0a669e29f03a497289b65136776307bd",
      "placeholder": "​",
      "style": "IPY_MODEL_2830f22502404ff8a24c4dc8955762d3",
      "value": "model.safetensors: 100%"
     }
    },
    "adbb94103cdf4151ad70baa5686baffe": {
     "model_module": "@jupyter-widgets/controls",
     "model_module_version": "1.5.0",
     "model_name": "HBoxModel",
     "state": {
      "_dom_classes": [],
      "_model_module": "@jupyter-widgets/controls",
      "_model_module_version": "1.5.0",
      "_model_name": "HBoxModel",
      "_view_count": null,
      "_view_module": "@jupyter-widgets/controls",
      "_view_module_version": "1.5.0",
      "_view_name": "HBoxView",
      "box_style": "",
      "children": [
       "IPY_MODEL_f02c4935d6de47e78aa3be47245381cb",
       "IPY_MODEL_3b532ef65b114c4dbbb82c13e513615c",
       "IPY_MODEL_365f246932ee496cad6ee18e31cc0c73"
      ],
      "layout": "IPY_MODEL_fcab6733e1b8449786293dc01373502b"
     }
    },
    "c71f33b2056440f796f9d9a80e2e6b79": {
     "model_module": "@jupyter-widgets/base",
     "model_module_version": "1.2.0",
     "model_name": "LayoutModel",
     "state": {
      "_model_module": "@jupyter-widgets/base",
      "_model_module_version": "1.2.0",
      "_model_name": "LayoutModel",
      "_view_count": null,
      "_view_module": "@jupyter-widgets/base",
      "_view_module_version": "1.2.0",
      "_view_name": "LayoutView",
      "align_content": null,
      "align_items": null,
      "align_self": null,
      "border": null,
      "bottom": null,
      "display": null,
      "flex": null,
      "flex_flow": null,
      "grid_area": null,
      "grid_auto_columns": null,
      "grid_auto_flow": null,
      "grid_auto_rows": null,
      "grid_column": null,
      "grid_gap": null,
      "grid_row": null,
      "grid_template_areas": null,
      "grid_template_columns": null,
      "grid_template_rows": null,
      "height": null,
      "justify_content": null,
      "justify_items": null,
      "left": null,
      "margin": null,
      "max_height": null,
      "max_width": null,
      "min_height": null,
      "min_width": null,
      "object_fit": null,
      "object_position": null,
      "order": null,
      "overflow": null,
      "overflow_x": null,
      "overflow_y": null,
      "padding": null,
      "right": null,
      "top": null,
      "visibility": null,
      "width": null
     }
    },
    "c7be41e8afd241f9adbcc5b3ac1c63ca": {
     "model_module": "@jupyter-widgets/controls",
     "model_module_version": "1.5.0",
     "model_name": "DescriptionStyleModel",
     "state": {
      "_model_module": "@jupyter-widgets/controls",
      "_model_module_version": "1.5.0",
      "_model_name": "DescriptionStyleModel",
      "_view_count": null,
      "_view_module": "@jupyter-widgets/base",
      "_view_module_version": "1.2.0",
      "_view_name": "StyleView",
      "description_width": ""
     }
    },
    "d9a1ab2738314b17a71dc986425a3de6": {
     "model_module": "@jupyter-widgets/controls",
     "model_module_version": "1.5.0",
     "model_name": "HTMLModel",
     "state": {
      "_dom_classes": [],
      "_model_module": "@jupyter-widgets/controls",
      "_model_module_version": "1.5.0",
      "_model_name": "HTMLModel",
      "_view_count": null,
      "_view_module": "@jupyter-widgets/controls",
      "_view_module_version": "1.5.0",
      "_view_name": "HTMLView",
      "description": "",
      "description_tooltip": null,
      "layout": "IPY_MODEL_fe8d603953bc4acf9dc79218e17adb93",
      "placeholder": "​",
      "style": "IPY_MODEL_0a51a086fc7b4343b94fd49e9f994ee5",
      "value": " 2420/2420 [00:00&lt;00:00, 3254.45 examples/s]"
     }
    },
    "dab0d0a414154c4c830cf467f7fe693c": {
     "model_module": "@jupyter-widgets/base",
     "model_module_version": "1.2.0",
     "model_name": "LayoutModel",
     "state": {
      "_model_module": "@jupyter-widgets/base",
      "_model_module_version": "1.2.0",
      "_model_name": "LayoutModel",
      "_view_count": null,
      "_view_module": "@jupyter-widgets/base",
      "_view_module_version": "1.2.0",
      "_view_name": "LayoutView",
      "align_content": null,
      "align_items": null,
      "align_self": null,
      "border": null,
      "bottom": null,
      "display": null,
      "flex": null,
      "flex_flow": null,
      "grid_area": null,
      "grid_auto_columns": null,
      "grid_auto_flow": null,
      "grid_auto_rows": null,
      "grid_column": null,
      "grid_gap": null,
      "grid_row": null,
      "grid_template_areas": null,
      "grid_template_columns": null,
      "grid_template_rows": null,
      "height": null,
      "justify_content": null,
      "justify_items": null,
      "left": null,
      "margin": null,
      "max_height": null,
      "max_width": null,
      "min_height": null,
      "min_width": null,
      "object_fit": null,
      "object_position": null,
      "order": null,
      "overflow": null,
      "overflow_x": null,
      "overflow_y": null,
      "padding": null,
      "right": null,
      "top": null,
      "visibility": null,
      "width": null
     }
    },
    "e9e7521aea7d41628bc078f1a5d23185": {
     "model_module": "@jupyter-widgets/controls",
     "model_module_version": "1.5.0",
     "model_name": "HBoxModel",
     "state": {
      "_dom_classes": [],
      "_model_module": "@jupyter-widgets/controls",
      "_model_module_version": "1.5.0",
      "_model_name": "HBoxModel",
      "_view_count": null,
      "_view_module": "@jupyter-widgets/controls",
      "_view_module_version": "1.5.0",
      "_view_name": "HBoxView",
      "box_style": "",
      "children": [
       "IPY_MODEL_1cbfc9e8d7444434bb4196c538f5a493",
       "IPY_MODEL_008c429fe3dc460e80474778556f9b5d",
       "IPY_MODEL_47ff0d394e0940d9b0f5cec8a908aaf6"
      ],
      "layout": "IPY_MODEL_56f74e30372344c1942ab83a06e4bd15"
     }
    },
    "f02c4935d6de47e78aa3be47245381cb": {
     "model_module": "@jupyter-widgets/controls",
     "model_module_version": "1.5.0",
     "model_name": "HTMLModel",
     "state": {
      "_dom_classes": [],
      "_model_module": "@jupyter-widgets/controls",
      "_model_module_version": "1.5.0",
      "_model_name": "HTMLModel",
      "_view_count": null,
      "_view_module": "@jupyter-widgets/controls",
      "_view_module_version": "1.5.0",
      "_view_name": "HTMLView",
      "description": "",
      "description_tooltip": null,
      "layout": "IPY_MODEL_66ef0d3e5d0942759e9088a01811d588",
      "placeholder": "​",
      "style": "IPY_MODEL_c7be41e8afd241f9adbcc5b3ac1c63ca",
      "value": "Map: 100%"
     }
    },
    "f55f676eab7c47bbae81d648f0844544": {
     "model_module": "@jupyter-widgets/controls",
     "model_module_version": "1.5.0",
     "model_name": "HBoxModel",
     "state": {
      "_dom_classes": [],
      "_model_module": "@jupyter-widgets/controls",
      "_model_module_version": "1.5.0",
      "_model_name": "HBoxModel",
      "_view_count": null,
      "_view_module": "@jupyter-widgets/controls",
      "_view_module_version": "1.5.0",
      "_view_name": "HBoxView",
      "box_style": "",
      "children": [
       "IPY_MODEL_ad9e1fbff5d34034af453f77212efbc0",
       "IPY_MODEL_3ad3f18fe2954f4d93befdea56835df6",
       "IPY_MODEL_a960ba400521459fbd6f59217ed37da4"
      ],
      "layout": "IPY_MODEL_c71f33b2056440f796f9d9a80e2e6b79"
     }
    },
    "fc158e0bb7204f12bf611c40ba96dfa8": {
     "model_module": "@jupyter-widgets/base",
     "model_module_version": "1.2.0",
     "model_name": "LayoutModel",
     "state": {
      "_model_module": "@jupyter-widgets/base",
      "_model_module_version": "1.2.0",
      "_model_name": "LayoutModel",
      "_view_count": null,
      "_view_module": "@jupyter-widgets/base",
      "_view_module_version": "1.2.0",
      "_view_name": "LayoutView",
      "align_content": null,
      "align_items": null,
      "align_self": null,
      "border": null,
      "bottom": null,
      "display": null,
      "flex": null,
      "flex_flow": null,
      "grid_area": null,
      "grid_auto_columns": null,
      "grid_auto_flow": null,
      "grid_auto_rows": null,
      "grid_column": null,
      "grid_gap": null,
      "grid_row": null,
      "grid_template_areas": null,
      "grid_template_columns": null,
      "grid_template_rows": null,
      "height": null,
      "justify_content": null,
      "justify_items": null,
      "left": null,
      "margin": null,
      "max_height": null,
      "max_width": null,
      "min_height": null,
      "min_width": null,
      "object_fit": null,
      "object_position": null,
      "order": null,
      "overflow": null,
      "overflow_x": null,
      "overflow_y": null,
      "padding": null,
      "right": null,
      "top": null,
      "visibility": null,
      "width": null
     }
    },
    "fcab6733e1b8449786293dc01373502b": {
     "model_module": "@jupyter-widgets/base",
     "model_module_version": "1.2.0",
     "model_name": "LayoutModel",
     "state": {
      "_model_module": "@jupyter-widgets/base",
      "_model_module_version": "1.2.0",
      "_model_name": "LayoutModel",
      "_view_count": null,
      "_view_module": "@jupyter-widgets/base",
      "_view_module_version": "1.2.0",
      "_view_name": "LayoutView",
      "align_content": null,
      "align_items": null,
      "align_self": null,
      "border": null,
      "bottom": null,
      "display": null,
      "flex": null,
      "flex_flow": null,
      "grid_area": null,
      "grid_auto_columns": null,
      "grid_auto_flow": null,
      "grid_auto_rows": null,
      "grid_column": null,
      "grid_gap": null,
      "grid_row": null,
      "grid_template_areas": null,
      "grid_template_columns": null,
      "grid_template_rows": null,
      "height": null,
      "justify_content": null,
      "justify_items": null,
      "left": null,
      "margin": null,
      "max_height": null,
      "max_width": null,
      "min_height": null,
      "min_width": null,
      "object_fit": null,
      "object_position": null,
      "order": null,
      "overflow": null,
      "overflow_x": null,
      "overflow_y": null,
      "padding": null,
      "right": null,
      "top": null,
      "visibility": null,
      "width": null
     }
    },
    "fe8d603953bc4acf9dc79218e17adb93": {
     "model_module": "@jupyter-widgets/base",
     "model_module_version": "1.2.0",
     "model_name": "LayoutModel",
     "state": {
      "_model_module": "@jupyter-widgets/base",
      "_model_module_version": "1.2.0",
      "_model_name": "LayoutModel",
      "_view_count": null,
      "_view_module": "@jupyter-widgets/base",
      "_view_module_version": "1.2.0",
      "_view_name": "LayoutView",
      "align_content": null,
      "align_items": null,
      "align_self": null,
      "border": null,
      "bottom": null,
      "display": null,
      "flex": null,
      "flex_flow": null,
      "grid_area": null,
      "grid_auto_columns": null,
      "grid_auto_flow": null,
      "grid_auto_rows": null,
      "grid_column": null,
      "grid_gap": null,
      "grid_row": null,
      "grid_template_areas": null,
      "grid_template_columns": null,
      "grid_template_rows": null,
      "height": null,
      "justify_content": null,
      "justify_items": null,
      "left": null,
      "margin": null,
      "max_height": null,
      "max_width": null,
      "min_height": null,
      "min_width": null,
      "object_fit": null,
      "object_position": null,
      "order": null,
      "overflow": null,
      "overflow_x": null,
      "overflow_y": null,
      "padding": null,
      "right": null,
      "top": null,
      "visibility": null,
      "width": null
     }
    }
   }
  }
 },
 "nbformat": 4,
 "nbformat_minor": 1
}
